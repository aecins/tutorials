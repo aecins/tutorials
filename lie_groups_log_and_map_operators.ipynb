{
  "nbformat": 4,
  "nbformat_minor": 0,
  "metadata": {
    "colab": {
      "provenance": [],
      "authorship_tag": "ABX9TyMe1YDr+4SJIofxakFHv467",
      "include_colab_link": true
    },
    "kernelspec": {
      "name": "python3",
      "display_name": "Python 3"
    },
    "language_info": {
      "name": "python"
    }
  },
  "cells": [
    {
      "cell_type": "markdown",
      "metadata": {
        "id": "view-in-github",
        "colab_type": "text"
      },
      "source": [
        "<a href=\"https://colab.research.google.com/github/aecins/tutorials/blob/main/lie_groups_log_and_map_operators.ipynb\" target=\"_parent\"><img src=\"https://colab.research.google.com/assets/colab-badge.svg\" alt=\"Open In Colab\"/></a>"
      ]
    },
    {
      "cell_type": "code",
      "execution_count": 1,
      "metadata": {
        "colab": {
          "base_uri": "https://localhost:8080/"
        },
        "id": "9bJjn_bDsYvY",
        "outputId": "cf89cefb-da4f-4eb0-e7a3-11b88382187d"
      },
      "outputs": [
        {
          "output_type": "stream",
          "name": "stdout",
          "text": [
            "Collecting sophuspy\n",
            "  Downloading sophuspy-1.0.0-cp310-cp310-manylinux_2_17_x86_64.manylinux2014_x86_64.whl (202 kB)\n",
            "\u001b[?25l     \u001b[90m━━━━━━━━━━━━━━━━━━━━━━━━━━━━━━━━━━━━━━━━\u001b[0m \u001b[32m0.0/203.0 kB\u001b[0m \u001b[31m?\u001b[0m eta \u001b[36m-:--:--\u001b[0m\r\u001b[2K     \u001b[91m━━━━━━━━━━━━━━━━━━━━━━━━━━━━━━━━━━━━━━\u001b[0m\u001b[90m╺\u001b[0m\u001b[90m━\u001b[0m \u001b[32m194.6/203.0 kB\u001b[0m \u001b[31m5.7 MB/s\u001b[0m eta \u001b[36m0:00:01\u001b[0m\r\u001b[2K     \u001b[90m━━━━━━━━━━━━━━━━━━━━━━━━━━━━━━━━━━━━━━━━\u001b[0m \u001b[32m203.0/203.0 kB\u001b[0m \u001b[31m4.5 MB/s\u001b[0m eta \u001b[36m0:00:00\u001b[0m\n",
            "\u001b[?25hRequirement already satisfied: numpy in /usr/local/lib/python3.10/dist-packages (from sophuspy) (1.25.2)\n",
            "Installing collected packages: sophuspy\n",
            "Successfully installed sophuspy-1.0.0\n"
          ]
        }
      ],
      "source": [
        "!pip install sophuspy"
      ]
    },
    {
      "cell_type": "code",
      "source": [
        "import numpy as np\n",
        "import sophuspy as sp\n",
        "\n",
        "# Create a random rotation represented in angleaxis.\n",
        "rotation_angle = np.random.rand(1) * np.pi\n",
        "rotation_axis = np.random.rand(3)\n",
        "rotation_axis = rotation_axis / np.linalg.norm(rotation_axis)\n",
        "rotation_angleaxis = rotation_axis * rotation_angle"
      ],
      "metadata": {
        "id": "dcu-Oak0scE5"
      },
      "execution_count": 2,
      "outputs": []
    },
    {
      "cell_type": "code",
      "source": [
        "# Convert it to a rotation matrix using the Rodrigues formula.\n",
        "# This is equivalent to the Exp() operator on the SO(3) group that maps\n",
        "# the R^3 vector elements to the SO(3) group elements.\n",
        "def angleaxisToRotationMatrix(angleaxis):\n",
        "    \"\"\"Convert an angle-axis representation to rotation matrix using Rodrigues formula.\"\"\"\n",
        "    angle = np.linalg.norm(angleaxis)\n",
        "    axis = angleaxis / angle\n",
        "\n",
        "    kx = axis[0]\n",
        "    ky = axis[1]\n",
        "    kz = axis[2]\n",
        "\n",
        "    K = np.array([[ 0, -kz,  ky],\n",
        "                  [ kz,  0, -kx],\n",
        "                  [-ky,  kx,  0]])\n",
        "\n",
        "    return np.eye(3) + np.sin(angle) * K + (1 - np.cos(angle)) * np.matmul(K, K)\n",
        "\n",
        "rotation_matrix = angleaxisToRotationMatrix(rotation_angleaxis)"
      ],
      "metadata": {
        "id": "d9eTDMu1tZtC"
      },
      "execution_count": 3,
      "outputs": []
    },
    {
      "cell_type": "code",
      "source": [
        "# Create a Sophus SO3 object from angle axis representation.\n",
        "rotation_so3_from_angleaxis = sp.SO3.exp(rotation_angleaxis)\n",
        "\n",
        "# Check that it is repesented by the same matrix that we got from the Rodrigues formula.\n",
        "print(\"Rotation matrix obtained using Rodrigues formula:\")\n",
        "print(rotation_matrix)\n",
        "print(\"Rotation matrix obtained using Sophus:\")\n",
        "print(rotation_so3_from_angleaxis.matrix())\n",
        "\n",
        "assert(np.all(np.absolute(rotation_matrix - rotation_so3_from_angleaxis.matrix()) < 1e-12))"
      ],
      "metadata": {
        "colab": {
          "base_uri": "https://localhost:8080/"
        },
        "id": "h070Legbtc7I",
        "outputId": "ee37727f-3de1-4079-fd73-a72104c455d7"
      },
      "execution_count": 4,
      "outputs": [
        {
          "output_type": "stream",
          "name": "stdout",
          "text": [
            "Rotation matrix obtained using Rodrigues formula:\n",
            "[[ 0.70903327 -0.06657699  0.70202516]\n",
            " [ 0.27427426 -0.89110946 -0.36152117]\n",
            " [ 0.64965026  0.44887797 -0.6135659 ]]\n",
            "Rotation matrix obtained using Sophus:\n",
            "[[ 0.70903327 -0.06657699  0.70202516]\n",
            " [ 0.27427426 -0.89110946 -0.36152117]\n",
            " [ 0.64965026  0.44887797 -0.6135659 ]]\n"
          ]
        }
      ]
    },
    {
      "cell_type": "code",
      "source": [
        "# Create a Sophus SO3 object from a rotation matrix.\n",
        "rotation_so3_from_matrix = sp.SO3(rotation_matrix)\n",
        "\n",
        "# Check that converting the rotation matrix to angle axis using Sophus gives the expected result.\n",
        "print(\"Original angleaxis:\")\n",
        "print(rotation_angleaxis)\n",
        "print(\"Angleaxis obtained using Sophus:\")\n",
        "print(rotation_so3_from_matrix.log())\n",
        "# This is equivalent to the Log operator on the SO(3) group that maps\n",
        "# SO(3) group elements to R^3 vector elements.\n",
        "\n",
        "assert(np.all(np.absolute(rotation_angleaxis - rotation_so3_from_matrix.log()) < 1e-12))"
      ],
      "metadata": {
        "colab": {
          "base_uri": "https://localhost:8080/"
        },
        "id": "jq1pTwrutpoQ",
        "outputId": "21e75e40-36a1-4c28-bb1a-9240dde79622"
      },
      "execution_count": 5,
      "outputs": [
        {
          "output_type": "stream",
          "name": "stdout",
          "text": [
            "Original angleaxis:\n",
            "[2.47115927 0.15970739 1.03936157]\n",
            "Angleaxis obtained using Sophus:\n",
            "[2.47115927 0.15970739 1.03936157]\n"
          ]
        }
      ]
    }
  ]
}