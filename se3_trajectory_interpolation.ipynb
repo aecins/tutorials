{
  "nbformat": 4,
  "nbformat_minor": 0,
  "metadata": {
    "colab": {
      "provenance": [],
      "authorship_tag": "ABX9TyO96LBzIz9g0Jmbzqzg8Srx",
      "include_colab_link": true
    },
    "kernelspec": {
      "name": "python3",
      "display_name": "Python 3"
    },
    "language_info": {
      "name": "python"
    }
  },
  "cells": [
    {
      "cell_type": "markdown",
      "metadata": {
        "id": "view-in-github",
        "colab_type": "text"
      },
      "source": [
        "<a href=\"https://colab.research.google.com/github/aecins/tutorials/blob/main/se3_trajectory_interpolation.ipynb\" target=\"_parent\"><img src=\"https://colab.research.google.com/assets/colab-badge.svg\" alt=\"Open In Colab\"/></a>"
      ]
    },
    {
      "cell_type": "code",
      "execution_count": 3,
      "metadata": {
        "colab": {
          "base_uri": "https://localhost:8080/"
        },
        "id": "S0QGyidZ5Vqw",
        "outputId": "14137a45-b6e1-41c1-c2ee-b5bb2f78e7ab"
      },
      "outputs": [
        {
          "output_type": "stream",
          "name": "stdout",
          "text": [
            "Collecting spatialmath-python\n",
            "  Downloading spatialmath_python-1.1.14-py3-none-any.whl.metadata (17 kB)\n",
            "Requirement already satisfied: numpy>=1.22 in /usr/local/lib/python3.11/dist-packages (from spatialmath-python) (1.26.4)\n",
            "Requirement already satisfied: scipy in /usr/local/lib/python3.11/dist-packages (from spatialmath-python) (1.14.1)\n",
            "Requirement already satisfied: matplotlib in /usr/local/lib/python3.11/dist-packages (from spatialmath-python) (3.10.0)\n",
            "Collecting ansitable (from spatialmath-python)\n",
            "  Downloading ansitable-0.11.4-py3-none-any.whl.metadata (28 kB)\n",
            "Requirement already satisfied: typing-extensions in /usr/local/lib/python3.11/dist-packages (from spatialmath-python) (4.12.2)\n",
            "Collecting pre-commit (from spatialmath-python)\n",
            "  Downloading pre_commit-4.1.0-py2.py3-none-any.whl.metadata (1.3 kB)\n",
            "Collecting colored (from ansitable->spatialmath-python)\n",
            "  Downloading colored-2.3.0-py3-none-any.whl.metadata (3.6 kB)\n",
            "Requirement already satisfied: contourpy>=1.0.1 in /usr/local/lib/python3.11/dist-packages (from matplotlib->spatialmath-python) (1.3.1)\n",
            "Requirement already satisfied: cycler>=0.10 in /usr/local/lib/python3.11/dist-packages (from matplotlib->spatialmath-python) (0.12.1)\n",
            "Requirement already satisfied: fonttools>=4.22.0 in /usr/local/lib/python3.11/dist-packages (from matplotlib->spatialmath-python) (4.56.0)\n",
            "Requirement already satisfied: kiwisolver>=1.3.1 in /usr/local/lib/python3.11/dist-packages (from matplotlib->spatialmath-python) (1.4.8)\n",
            "Requirement already satisfied: packaging>=20.0 in /usr/local/lib/python3.11/dist-packages (from matplotlib->spatialmath-python) (24.2)\n",
            "Requirement already satisfied: pillow>=8 in /usr/local/lib/python3.11/dist-packages (from matplotlib->spatialmath-python) (11.1.0)\n",
            "Requirement already satisfied: pyparsing>=2.3.1 in /usr/local/lib/python3.11/dist-packages (from matplotlib->spatialmath-python) (3.2.1)\n",
            "Requirement already satisfied: python-dateutil>=2.7 in /usr/local/lib/python3.11/dist-packages (from matplotlib->spatialmath-python) (2.8.2)\n",
            "Collecting cfgv>=2.0.0 (from pre-commit->spatialmath-python)\n",
            "  Downloading cfgv-3.4.0-py2.py3-none-any.whl.metadata (8.5 kB)\n",
            "Collecting identify>=1.0.0 (from pre-commit->spatialmath-python)\n",
            "  Downloading identify-2.6.9-py2.py3-none-any.whl.metadata (4.4 kB)\n",
            "Collecting nodeenv>=0.11.1 (from pre-commit->spatialmath-python)\n",
            "  Downloading nodeenv-1.9.1-py2.py3-none-any.whl.metadata (21 kB)\n",
            "Requirement already satisfied: pyyaml>=5.1 in /usr/local/lib/python3.11/dist-packages (from pre-commit->spatialmath-python) (6.0.2)\n",
            "Collecting virtualenv>=20.10.0 (from pre-commit->spatialmath-python)\n",
            "  Downloading virtualenv-20.29.3-py3-none-any.whl.metadata (4.5 kB)\n",
            "Requirement already satisfied: six>=1.5 in /usr/local/lib/python3.11/dist-packages (from python-dateutil>=2.7->matplotlib->spatialmath-python) (1.17.0)\n",
            "Collecting distlib<1,>=0.3.7 (from virtualenv>=20.10.0->pre-commit->spatialmath-python)\n",
            "  Downloading distlib-0.3.9-py2.py3-none-any.whl.metadata (5.2 kB)\n",
            "Requirement already satisfied: filelock<4,>=3.12.2 in /usr/local/lib/python3.11/dist-packages (from virtualenv>=20.10.0->pre-commit->spatialmath-python) (3.17.0)\n",
            "Requirement already satisfied: platformdirs<5,>=3.9.1 in /usr/local/lib/python3.11/dist-packages (from virtualenv>=20.10.0->pre-commit->spatialmath-python) (4.3.6)\n",
            "Downloading spatialmath_python-1.1.14-py3-none-any.whl (193 kB)\n",
            "\u001b[2K   \u001b[90m━━━━━━━━━━━━━━━━━━━━━━━━━━━━━━━━━━━━━━━━\u001b[0m \u001b[32m193.1/193.1 kB\u001b[0m \u001b[31m5.0 MB/s\u001b[0m eta \u001b[36m0:00:00\u001b[0m\n",
            "\u001b[?25hDownloading ansitable-0.11.4-py3-none-any.whl (19 kB)\n",
            "Downloading pre_commit-4.1.0-py2.py3-none-any.whl (220 kB)\n",
            "\u001b[2K   \u001b[90m━━━━━━━━━━━━━━━━━━━━━━━━━━━━━━━━━━━━━━━━\u001b[0m \u001b[32m220.6/220.6 kB\u001b[0m \u001b[31m20.5 MB/s\u001b[0m eta \u001b[36m0:00:00\u001b[0m\n",
            "\u001b[?25hDownloading cfgv-3.4.0-py2.py3-none-any.whl (7.2 kB)\n",
            "Downloading identify-2.6.9-py2.py3-none-any.whl (99 kB)\n",
            "\u001b[2K   \u001b[90m━━━━━━━━━━━━━━━━━━━━━━━━━━━━━━━━━━━━━━━━\u001b[0m \u001b[32m99.1/99.1 kB\u001b[0m \u001b[31m11.4 MB/s\u001b[0m eta \u001b[36m0:00:00\u001b[0m\n",
            "\u001b[?25hDownloading nodeenv-1.9.1-py2.py3-none-any.whl (22 kB)\n",
            "Downloading virtualenv-20.29.3-py3-none-any.whl (4.3 MB)\n",
            "\u001b[2K   \u001b[90m━━━━━━━━━━━━━━━━━━━━━━━━━━━━━━━━━━━━━━━━\u001b[0m \u001b[32m4.3/4.3 MB\u001b[0m \u001b[31m60.6 MB/s\u001b[0m eta \u001b[36m0:00:00\u001b[0m\n",
            "\u001b[?25hDownloading colored-2.3.0-py3-none-any.whl (18 kB)\n",
            "Downloading distlib-0.3.9-py2.py3-none-any.whl (468 kB)\n",
            "\u001b[2K   \u001b[90m━━━━━━━━━━━━━━━━━━━━━━━━━━━━━━━━━━━━━━━━\u001b[0m \u001b[32m469.0/469.0 kB\u001b[0m \u001b[31m38.6 MB/s\u001b[0m eta \u001b[36m0:00:00\u001b[0m\n",
            "\u001b[?25hInstalling collected packages: distlib, virtualenv, nodeenv, identify, colored, cfgv, pre-commit, ansitable, spatialmath-python\n",
            "Successfully installed ansitable-0.11.4 cfgv-3.4.0 colored-2.3.0 distlib-0.3.9 identify-2.6.9 nodeenv-1.9.1 pre-commit-4.1.0 spatialmath-python-1.1.14 virtualenv-20.29.3\n"
          ]
        }
      ],
      "source": [
        "!pip3 install spatialmath-python"
      ]
    },
    {
      "cell_type": "code",
      "source": [
        "import numpy as np\n",
        "import spatialmath as sp\n",
        "\n",
        "#Create two SE3 poses with different rotations and translations.\n",
        "pose_1 = sp.SE3()\n",
        "\n",
        "pose_2 = sp.SE3.Rt(\n",
        "    t=[2, 2, 2],\n",
        "    R=sp.SO3.AngleAxis(\n",
        "        theta=75,\n",
        "        v=[0, 1, 0],\n",
        "        unit=\"deg\",\n",
        "    ),\n",
        ")\n",
        "\n",
        "print(\"Pose 1:\")\n",
        "print(pose_1)\n",
        "print(\"Pose 2:\")\n",
        "print(pose_2)\n",
        "\n",
        "print(\"Distance between origins of the poses:\")\n",
        "print(np.linalg.norm(pose_1.t - pose_2.t))"
      ],
      "metadata": {
        "colab": {
          "base_uri": "https://localhost:8080/"
        },
        "id": "_3E9o32Q5gKE",
        "outputId": "e681def6-0a74-4185-916a-8837f12b4bf7"
      },
      "execution_count": 48,
      "outputs": [
        {
          "output_type": "stream",
          "name": "stdout",
          "text": [
            "Pose 1:\n",
            "   1         0         0         0         \n",
            "   0         1         0         0         \n",
            "   0         0         1         0         \n",
            "   0         0         0         1         \n",
            "\n",
            "Pose 2:\n",
            "   0.2588    0         0.9659    2         \n",
            "   0         1         0         2         \n",
            "  -0.9659    0         0.2588    2         \n",
            "   0         0         0         1         \n",
            "\n",
            "Distance between origins of the poses:\n",
            "3.4641016151377544\n"
          ]
        }
      ]
    },
    {
      "cell_type": "code",
      "source": [
        "pose_1_inv = pose_1.inv()\n",
        "pose_2_inv = pose_2.inv()\n",
        "\n",
        "print(\"Pose 1 inverse:\")\n",
        "print(pose_1_inv)\n",
        "print(\"Pose 2 inverse:\")\n",
        "print(pose_2_inv)\n",
        "\n",
        "print(\"Distance between origins of the inverses of poses:\")\n",
        "print(np.linalg.norm(pose_1.inv().t - pose_2.inv().t))"
      ],
      "metadata": {
        "colab": {
          "base_uri": "https://localhost:8080/"
        },
        "id": "PiFRhtx55iIr",
        "outputId": "a1976cdc-4c1f-4aab-b0b9-8a7307b971e8"
      },
      "execution_count": 49,
      "outputs": [
        {
          "output_type": "stream",
          "name": "stdout",
          "text": [
            "Pose 1 inverse:\n",
            "   1         0         0         0         \n",
            "   0         1         0         0         \n",
            "   0         0         1         0         \n",
            "   0         0         0         1         \n",
            "\n",
            "Pose 2 inverse:\n",
            "   0.2588    0        -0.9659    1.414     \n",
            "   0         1         0        -2         \n",
            "   0.9659    0         0.2588   -2.449     \n",
            "   0         0         0         1         \n",
            "\n",
            "Distance between origins of the inverses of poses:\n",
            "3.4641016151377544\n"
          ]
        }
      ]
    },
    {
      "cell_type": "code",
      "source": [
        "# Interpolate between the original poses.\n",
        "pose_1_2_interp = pose_1.interp(pose_2, 0.5)\n",
        "\n",
        "print(\"Interpolation of the original poses:\")\n",
        "print(pose_1_2_interp)\n",
        "\n",
        "# Take inverse of the interpolation between inverted poses.\n",
        "pose_1_2_inv_interp = pose_1.inv().interp(pose_2.inv(), 0.5)\n",
        "pose_1_2_inv_interp_inv = pose_1_2_inv_interp.inv()\n",
        "print(\"Inverse of the interpolation of the inverted poses:\")\n",
        "print(pose_1_2_inv_interp_inv)\n",
        "\n",
        "print(\"Distance between origins of the interpolated poses:\")\n",
        "print(f\"  {np.linalg.norm(pose_1_2_interp.t - pose_1_2_inv_interp_inv.t)}\")\n",
        "print(\"Angular distance between rotations of the interpolated poses:\")\n",
        "print(f\"  {pose_1_2_interp.UnitQuaternion().angdist(pose_1_2_inv_interp_inv.UnitQuaternion())}\")"
      ],
      "metadata": {
        "colab": {
          "base_uri": "https://localhost:8080/"
        },
        "id": "uTz5zZwR6q5D",
        "outputId": "17709b79-c888-4a46-c491-d5004b8aa593"
      },
      "execution_count": 50,
      "outputs": [
        {
          "output_type": "stream",
          "name": "stdout",
          "text": [
            "Interpolation of the original poses:\n",
            "   0.7934    0         0.6088    1         \n",
            "   0         1         0         1         \n",
            "  -0.6088    0         0.7934    1         \n",
            "   0         0         0         1         \n",
            "\n",
            "Inverse of the interpolation of the inverted poses:\n",
            "   0.7934    0         0.6088    0.1846    \n",
            "   0         1         0         1         \n",
            "  -0.6088    0         0.7934    1.402     \n",
            "   0         0         0         1         \n",
            "\n",
            "Distance between origins of the interpolated poses:\n",
            "  0.9091681026273741\n",
            "Angular distance between rotations of the interpolated poses:\n",
            "  0.0\n"
          ]
        }
      ]
    },
    {
      "cell_type": "markdown",
      "source": [
        "This demonstates that in a general case the interpolation of two $SE3$ poses is not equal to the inverse of the interpolation of the inverted poses i.e.:\n",
        "$$\n",
        "interp(P_1, P_2, \\alpha) \\neq interp(P_1^{-1},P_2^{-1}, \\alpha)^{-1}\n",
        "$$\n",
        "\n",
        "where $interp(...)$ interpolates between two $SE3$ poses such that SLERP is used for rotation and linear interpolation for translation.\n"
      ],
      "metadata": {
        "id": "UDr7-3Rr8GKZ"
      }
    },
    {
      "cell_type": "code",
      "source": [
        "#Create two SE3 poses with different rotations but identical translations\n",
        "pose_1 = sp.SE3.Rt(\n",
        "    t=[1, 1, 1],\n",
        "    R=sp.SO3.AngleAxis(\n",
        "        theta=45,\n",
        "        v=[1, 1, 1],\n",
        "        unit=\"deg\",\n",
        "    ),\n",
        ")\n",
        "\n",
        "pose_2 = sp.SE3.Rt(\n",
        "    t=[1, 1, 1],\n",
        "    R=sp.SO3.AngleAxis(\n",
        "        theta=45,\n",
        "        v=[1, 1, 1],\n",
        "        unit=\"deg\",\n",
        "    ),\n",
        ")"
      ],
      "metadata": {
        "id": "5AAKJ_Xq7ZMB"
      },
      "execution_count": 51,
      "outputs": []
    },
    {
      "cell_type": "code",
      "source": [
        "# Interpolate between the original poses.\n",
        "pose_1_2_interp = pose_1.interp(pose_2, 0.5)\n",
        "\n",
        "print(\"Interpolation of the original poses:\")\n",
        "print(pose_1_2_interp)\n",
        "\n",
        "# Take inverse of the interpolation between inverted poses.\n",
        "pose_1_2_inv_interp = pose_1.inv().interp(pose_2.inv(), 0.5)\n",
        "pose_1_2_inv_interp_inv = pose_1_2_inv_interp.inv()\n",
        "print(\"Inverse of the interpolation of the inverted poses:\")\n",
        "print(pose_1_2_inv_interp_inv)\n",
        "\n",
        "print(\"Distance between origins of the interpolated poses:\")\n",
        "print(f\"  {np.linalg.norm(pose_1_2_interp.t - pose_1_2_inv_interp_inv.t)}\")\n",
        "print(\"Angular distance between rotations of the interpolated poses:\")\n",
        "print(f\"  {pose_1_2_interp.UnitQuaternion().angdist(pose_1_2_inv_interp_inv.UnitQuaternion())}\")"
      ],
      "metadata": {
        "colab": {
          "base_uri": "https://localhost:8080/"
        },
        "id": "AIUAQV3J_WHf",
        "outputId": "9805c9a1-d0b7-4240-c246-b5c726398c27"
      },
      "execution_count": 52,
      "outputs": [
        {
          "output_type": "stream",
          "name": "stdout",
          "text": [
            "Interpolation of the original poses:\n",
            "   0.8047   -0.3106    0.5059    1         \n",
            "   0.5059    0.8047   -0.3106    1         \n",
            "  -0.3106    0.5059    0.8047    1         \n",
            "   0         0         0         1         \n",
            "\n",
            "Inverse of the interpolation of the inverted poses:\n",
            "   0.8047   -0.3106    0.5059    1         \n",
            "   0.5059    0.8047   -0.3106    1         \n",
            "  -0.3106    0.5059    0.8047    1         \n",
            "   0         0         0         1         \n",
            "\n",
            "Distance between origins of the interpolated poses:\n",
            "  0.0\n",
            "Angular distance between rotations of the interpolated poses:\n",
            "  0.0\n"
          ]
        }
      ]
    },
    {
      "cell_type": "markdown",
      "source": [
        "This demonstates that in a special case where two poses have same rotations, the interpolation of two poses is equal to the inverse of the interpolation of the inverted poses i.e.:\n",
        "$$\n",
        "interp(P_1, P_2, \\alpha) == interp(P_1^{-1},P_2^{-1}, \\alpha)^{-1} \\iff P_1.rotation() == P_2.rotation()\n",
        "$$\n",
        "\n",
        "This suggests that for a 6DoF trajectory of a frame that is sampled densely enough (relative rotation between consecutive trajectory samples is small) - interpolating the original trajectory will give results approximately equal to taking the inverse of the interpolation of the inverse trajectory."
      ],
      "metadata": {
        "id": "gCTunNybBELF"
      }
    },
    {
      "cell_type": "code",
      "source": [],
      "metadata": {
        "id": "nMVTkyYLBnOy"
      },
      "execution_count": 52,
      "outputs": []
    }
  ]
}