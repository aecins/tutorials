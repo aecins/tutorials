{
  "nbformat": 4,
  "nbformat_minor": 0,
  "metadata": {
    "colab": {
      "provenance": [],
      "authorship_tag": "ABX9TyNtO/uDiHOMBMq1WzRcuY1q",
      "include_colab_link": true
    },
    "kernelspec": {
      "name": "python3",
      "display_name": "Python 3"
    },
    "language_info": {
      "name": "python"
    },
    "widgets": {
      "application/vnd.jupyter.widget-state+json": {
        "989ea01fdb034ed7a76bb44b37c27e49": {
          "model_module": "anywidget",
          "model_name": "AnyModel",
          "model_module_version": "~0.9.*",
          "state": {
            "_anywidget_id": "rerun_notebook.Viewer",
            "_css": "/* src/js/widget.css */\n.rerun_notebook canvas {\n  width: 100%;\n  height: 100%;\n  min-width: 200px;\n  min-height: 400px;\n  max-width: 960px;\n  max-height: 720px;\n}\n.rerun_notebook {\n  margin: 0;\n  padding: 0;\n  width: 100%;\n  height: 100%;\n  background: transparent !important;\n}\ndiv.cell-output-ipywidget-background {\n  margin: 0;\n  padding: 0;\n  background: transparent !important;\n}\n",
            "_dom_classes": [],
            "_esm": "https://app.rerun.io/version/0.18.2/widget.js",
            "_height": 800,
            "_model_module": "anywidget",
            "_model_module_version": "~0.9.*",
            "_model_name": "AnyModel",
            "_panel_states": null,
            "_url": null,
            "_view_count": null,
            "_view_module": "anywidget",
            "_view_module_version": "~0.9.*",
            "_view_name": "AnyView",
            "_width": 1400,
            "layout": "IPY_MODEL_fec07948c1004ba1bdd08b56972cf375"
          }
        },
        "fec07948c1004ba1bdd08b56972cf375": {
          "model_module": "@jupyter-widgets/base",
          "model_name": "LayoutModel",
          "model_module_version": "1.2.0",
          "state": {
            "_model_module": "@jupyter-widgets/base",
            "_model_module_version": "1.2.0",
            "_model_name": "LayoutModel",
            "_view_count": null,
            "_view_module": "@jupyter-widgets/base",
            "_view_module_version": "1.2.0",
            "_view_name": "LayoutView",
            "align_content": null,
            "align_items": null,
            "align_self": null,
            "border": null,
            "bottom": null,
            "display": null,
            "flex": null,
            "flex_flow": null,
            "grid_area": null,
            "grid_auto_columns": null,
            "grid_auto_flow": null,
            "grid_auto_rows": null,
            "grid_column": null,
            "grid_gap": null,
            "grid_row": null,
            "grid_template_areas": null,
            "grid_template_columns": null,
            "grid_template_rows": null,
            "height": null,
            "justify_content": null,
            "justify_items": null,
            "left": null,
            "margin": null,
            "max_height": null,
            "max_width": null,
            "min_height": null,
            "min_width": null,
            "object_fit": null,
            "object_position": null,
            "order": null,
            "overflow": null,
            "overflow_x": null,
            "overflow_y": null,
            "padding": null,
            "right": null,
            "top": null,
            "visibility": null,
            "width": null
          }
        }
      }
    }
  },
  "cells": [
    {
      "cell_type": "markdown",
      "metadata": {
        "id": "view-in-github",
        "colab_type": "text"
      },
      "source": [
        "<a href=\"https://colab.research.google.com/github/aecins/tutorials/blob/main/rerun_transforms_test.ipynb\" target=\"_parent\"><img src=\"https://colab.research.google.com/assets/colab-badge.svg\" alt=\"Open In Colab\"/></a>"
      ]
    },
    {
      "cell_type": "code",
      "source": [
        "# Install ReRun. Runtime may needs to be restarted after rerun is installed.\n",
        "try:\n",
        "  import rerun as rr\n",
        "except ImportError:\n",
        "  !pip3 install rerun-sdk[notebook]\n",
        "  print('Stopping RUNTIME! Please run again.')\n",
        "  import os\n",
        "  os.kill(os.getpid(), 9)"
      ],
      "metadata": {
        "id": "SAP1mUhWSnr3"
      },
      "execution_count": 5,
      "outputs": []
    },
    {
      "cell_type": "code",
      "source": [
        "# Install library for handling 3D transforms\n",
        "!pip3 install spatialmath-python"
      ],
      "metadata": {
        "colab": {
          "base_uri": "https://localhost:8080/"
        },
        "id": "FyHQDp2hXNjO",
        "outputId": "aa22da7d-90f0-44ca-9f92-b74e7a3937e7"
      },
      "execution_count": 6,
      "outputs": [
        {
          "output_type": "stream",
          "name": "stdout",
          "text": [
            "Requirement already satisfied: spatialmath-python in /usr/local/lib/python3.10/dist-packages (1.1.11)\n",
            "Requirement already satisfied: numpy>=1.17.4 in /usr/local/lib/python3.10/dist-packages (from spatialmath-python) (1.26.4)\n",
            "Requirement already satisfied: scipy in /usr/local/lib/python3.10/dist-packages (from spatialmath-python) (1.13.1)\n",
            "Requirement already satisfied: matplotlib in /usr/local/lib/python3.10/dist-packages (from spatialmath-python) (3.7.1)\n",
            "Requirement already satisfied: ansitable in /usr/local/lib/python3.10/dist-packages (from spatialmath-python) (0.11.2)\n",
            "Requirement already satisfied: typing-extensions in /usr/local/lib/python3.10/dist-packages (from spatialmath-python) (4.12.2)\n",
            "Requirement already satisfied: pre-commit in /usr/local/lib/python3.10/dist-packages (from spatialmath-python) (3.8.0)\n",
            "Requirement already satisfied: colored in /usr/local/lib/python3.10/dist-packages (from ansitable->spatialmath-python) (2.2.4)\n",
            "Requirement already satisfied: contourpy>=1.0.1 in /usr/local/lib/python3.10/dist-packages (from matplotlib->spatialmath-python) (1.3.0)\n",
            "Requirement already satisfied: cycler>=0.10 in /usr/local/lib/python3.10/dist-packages (from matplotlib->spatialmath-python) (0.12.1)\n",
            "Requirement already satisfied: fonttools>=4.22.0 in /usr/local/lib/python3.10/dist-packages (from matplotlib->spatialmath-python) (4.53.1)\n",
            "Requirement already satisfied: kiwisolver>=1.0.1 in /usr/local/lib/python3.10/dist-packages (from matplotlib->spatialmath-python) (1.4.5)\n",
            "Requirement already satisfied: packaging>=20.0 in /usr/local/lib/python3.10/dist-packages (from matplotlib->spatialmath-python) (24.1)\n",
            "Requirement already satisfied: pillow>=6.2.0 in /usr/local/lib/python3.10/dist-packages (from matplotlib->spatialmath-python) (9.4.0)\n",
            "Requirement already satisfied: pyparsing>=2.3.1 in /usr/local/lib/python3.10/dist-packages (from matplotlib->spatialmath-python) (3.1.4)\n",
            "Requirement already satisfied: python-dateutil>=2.7 in /usr/local/lib/python3.10/dist-packages (from matplotlib->spatialmath-python) (2.8.2)\n",
            "Requirement already satisfied: cfgv>=2.0.0 in /usr/local/lib/python3.10/dist-packages (from pre-commit->spatialmath-python) (3.4.0)\n",
            "Requirement already satisfied: identify>=1.0.0 in /usr/local/lib/python3.10/dist-packages (from pre-commit->spatialmath-python) (2.6.0)\n",
            "Requirement already satisfied: nodeenv>=0.11.1 in /usr/local/lib/python3.10/dist-packages (from pre-commit->spatialmath-python) (1.9.1)\n",
            "Requirement already satisfied: pyyaml>=5.1 in /usr/local/lib/python3.10/dist-packages (from pre-commit->spatialmath-python) (6.0.2)\n",
            "Requirement already satisfied: virtualenv>=20.10.0 in /usr/local/lib/python3.10/dist-packages (from pre-commit->spatialmath-python) (20.26.3)\n",
            "Requirement already satisfied: six>=1.5 in /usr/local/lib/python3.10/dist-packages (from python-dateutil>=2.7->matplotlib->spatialmath-python) (1.16.0)\n",
            "Requirement already satisfied: distlib<1,>=0.3.7 in /usr/local/lib/python3.10/dist-packages (from virtualenv>=20.10.0->pre-commit->spatialmath-python) (0.3.8)\n",
            "Requirement already satisfied: filelock<4,>=3.12.2 in /usr/local/lib/python3.10/dist-packages (from virtualenv>=20.10.0->pre-commit->spatialmath-python) (3.15.4)\n",
            "Requirement already satisfied: platformdirs<5,>=3.9.1 in /usr/local/lib/python3.10/dist-packages (from virtualenv>=20.10.0->pre-commit->spatialmath-python) (4.2.2)\n"
          ]
        }
      ]
    },
    {
      "cell_type": "code",
      "source": [
        "import numpy as np\n",
        "from spatialmath import SE3, SO3\n",
        "\n",
        "WORLD_ENTITY_FRAME = '/world'\n",
        "ROBOT_ENTITY_FRAME = '/world/robot'\n",
        "SENSOR_ENTITY_FRAME = '/world/robot/sensor'\n",
        "\n",
        "# World frame is static\n",
        "root_T_world = SE3()\n",
        "\n",
        "# Robot moves between two poses with constant motion.\n",
        "world_T_robot__start = SE3()\n",
        "axis = np.array([1, 1, 1])\n",
        "# angle_end = np.pi\n",
        "angle_end = 0\n",
        "translation_end = np.array([10, 0, 0])\n",
        "num_steps = 10\n",
        "\n",
        "world_T_robot = {\n",
        "    'transforms': [],\n",
        "    'timestamps': [],\n",
        "    'entity_path': ROBOT_ENTITY_FRAME,\n",
        "}\n",
        "\n",
        "for idx in range(num_steps):\n",
        "    timestamp = idx\n",
        "    translation = translation_end / num_steps * idx\n",
        "    angle = angle_end / num_steps * idx\n",
        "    rotation = SO3.AngleAxis(theta=angle, v=axis)\n",
        "\n",
        "    world_T_robot__cur = SE3.Rt(R=rotation, t=translation)\n",
        "\n",
        "    world_T_robot['transforms'].append(world_T_robot__cur)\n",
        "    world_T_robot['timestamps'].append(timestamp)\n",
        "\n",
        "# A sensor is rigidly attached to the robot.\n",
        "robot_tx_sensor__static = [0, 0, 1]\n",
        "robot_R_sensor__static = SO3.Rx(theta=np.pi / 2.0)\n",
        "robot_T_sensor__static = SE3.Rt(R=robot_R_sensor__static, t=robot_tx_sensor__static)\n",
        "\n",
        "# A sensor non-rigidly attached to the robot\n",
        "robot_T_sensor__dynamic = {\n",
        "    'transforms': [SE3.Rt(R=SO3(), t=[0, 1, 0]), SE3.Rt(R=SO3(), t=[0, 5, 0])],\n",
        "    'timestamps': [2.5, 5.5],\n",
        "    'entity_path': SENSOR_ENTITY_FRAME,\n",
        "}"
      ],
      "metadata": {
        "id": "5ysDhWwqPEnJ"
      },
      "execution_count": 7,
      "outputs": []
    },
    {
      "cell_type": "code",
      "source": [
        "rr.init(\"rerun_viewer\")\n",
        "\n",
        "def log_static_transform(entity_frame, transform_se3):\n",
        "    rr.log(\n",
        "        entity_frame,\n",
        "        rr.Transform3D(mat3x3=transform_se3.R, translation=transform_se3.t),\n",
        "        static=True,\n",
        "    )\n",
        "\n",
        "\n",
        "def log_dynamic_transform(transform):\n",
        "    for idx in range(len(transform['transforms'])):\n",
        "        parent_T_child = transform['transforms'][idx]\n",
        "        timestamp = transform['timestamps'][idx]\n",
        "\n",
        "        # Set timestamp.\n",
        "        rr.set_time_seconds(\"hardware_timestamp\", timestamp)\n",
        "\n",
        "        # Set transform.\n",
        "        rr.log(\n",
        "            transform['entity_path'],\n",
        "            rr.Transform3D(mat3x3=parent_T_child.R, translation=parent_T_child.t),\n",
        "            static=False,\n",
        "        )\n",
        "\n",
        "\n",
        "# Log origin transform\n",
        "log_static_transform(WORLD_ENTITY_FRAME, root_T_world)\n",
        "\n",
        "# Log robot pose\n",
        "log_dynamic_transform(world_T_robot)\n",
        "\n",
        "# Log sensor extrinsics\n",
        "# log_static_transform(SENSOR_ENTITY_FRAME, robot_T_sensor__static)\n",
        "log_dynamic_transform(robot_T_sensor__dynamic)"
      ],
      "metadata": {
        "id": "50luUJ2yPO5M"
      },
      "execution_count": 8,
      "outputs": []
    },
    {
      "cell_type": "code",
      "source": [
        "rr.notebook_show(width=1400, height=800)"
      ],
      "metadata": {
        "id": "_vCXJGYcPRA6",
        "colab": {
          "base_uri": "https://localhost:8080/",
          "height": 841,
          "referenced_widgets": [
            "989ea01fdb034ed7a76bb44b37c27e49",
            "fec07948c1004ba1bdd08b56972cf375"
          ]
        },
        "outputId": "7fc6763c-9382-4b66-e423-d16d83e87d03"
      },
      "execution_count": 9,
      "outputs": [
        {
          "output_type": "display_data",
          "data": {
            "text/plain": [
              "Viewer()"
            ],
            "application/vnd.jupyter.widget-view+json": {
              "version_major": 2,
              "version_minor": 0,
              "model_id": "989ea01fdb034ed7a76bb44b37c27e49"
            }
          },
          "metadata": {
            "application/vnd.jupyter.widget-view+json": {
              "colab": {
                "custom_widget_manager": {
                  "url": "https://ssl.gstatic.com/colaboratory-static/widgets/colab-cdn-widget-manager/2b70e893a8ba7c0f/manager.min.js"
                }
              }
            }
          }
        }
      ]
    },
    {
      "cell_type": "markdown",
      "source": [
        "### Takeaways\n",
        "* when logging a transform using `rr.log(entity_path='/world/robot/sensor', ...)` defines a transform with:\n",
        "  * parent is `/world/robot`\n",
        "  * child is `/world/robot/sensor`\n",
        "* static transforms move with the parent frame. I.e. if parent frame moves relative to the origin frame - the child transform statically attached to the parent frame will \"move together\" with the parent frame\n",
        "* transforms are not interpolated, instead the last avilable transform is used. Consider a robot `baselink` frame moving between two different poses at timestamps `t=0` and `t=1`. ReRun will render the pose of the frame as follows:\n",
        "  * for $t \\in [0,1)$ - `baselink` frame will be visualized using pose at `t=0`\n",
        "  * for $t \\in [1, +\\inf)$ - `baselink` frame will be visualized using pose at `t=1`"
      ],
      "metadata": {
        "id": "YU1F6nj6RuYs"
      }
    }
  ]
}