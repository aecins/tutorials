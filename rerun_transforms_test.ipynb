{
  "nbformat": 4,
  "nbformat_minor": 0,
  "metadata": {
    "colab": {
      "provenance": [],
      "authorship_tag": "ABX9TyNfd25AZqlOL99U2YxYB+QV",
      "include_colab_link": true
    },
    "kernelspec": {
      "name": "python3",
      "display_name": "Python 3"
    },
    "language_info": {
      "name": "python"
    }
  },
  "cells": [
    {
      "cell_type": "markdown",
      "metadata": {
        "id": "view-in-github",
        "colab_type": "text"
      },
      "source": [
        "<a href=\"https://colab.research.google.com/github/aecins/tutorials/blob/main/rerun_transforms_test.ipynb\" target=\"_parent\"><img src=\"https://colab.research.google.com/assets/colab-badge.svg\" alt=\"Open In Colab\"/></a>"
      ]
    },
    {
      "cell_type": "code",
      "source": [
        "# Install ReRun. Runtime needs to be restarted after ReRun is installed.\n",
        "try:\n",
        "  import rerun as rr\n",
        "except ImportError:\n",
        "  !pip3 install rerun-sdk[notebook]\n",
        "  print('Stopping RUNTIME! Please run again.')\n",
        "  import os\n",
        "  os.kill(os.getpid(), 9)"
      ],
      "metadata": {
        "id": "SAP1mUhWSnr3"
      },
      "execution_count": null,
      "outputs": []
    },
    {
      "cell_type": "code",
      "source": [
        "# Install library for handling 3D transforms\n",
        "!pip3 install spatialmath-python"
      ],
      "metadata": {
        "id": "FyHQDp2hXNjO"
      },
      "execution_count": null,
      "outputs": []
    },
    {
      "cell_type": "code",
      "source": [
        "import numpy as np\n",
        "from spatialmath import SE3, SO3\n",
        "\n",
        "WORLD_ENTITY_FRAME = '/world'\n",
        "ROBOT_ENTITY_FRAME = '/world/robot'\n",
        "SENSOR_ENTITY_FRAME = '/world/robot/sensor'\n",
        "\n",
        "# World frame is static\n",
        "root_T_world = SE3()\n",
        "\n",
        "# Robot moves between two poses with constant motion.\n",
        "world_T_robot__start = SE3()\n",
        "axis = np.array([1, 1, 1])\n",
        "# angle_end = np.pi\n",
        "angle_end = 0\n",
        "translation_end = np.array([10, 0, 0])\n",
        "num_steps = 10\n",
        "\n",
        "world_T_robot = {\n",
        "    'transforms': [],\n",
        "    'timestamps': [],\n",
        "    'entity_path': ROBOT_ENTITY_FRAME,\n",
        "}\n",
        "\n",
        "for idx in range(num_steps):\n",
        "    timestamp = idx\n",
        "    translation = translation_end / num_steps * idx\n",
        "    angle = angle_end / num_steps * idx\n",
        "    rotation = SO3.AngleAxis(theta=angle, v=axis)\n",
        "\n",
        "    world_T_robot__cur = SE3.Rt(R=rotation, t=translation)\n",
        "\n",
        "    world_T_robot['transforms'].append(world_T_robot__cur)\n",
        "    world_T_robot['timestamps'].append(timestamp)\n",
        "\n",
        "# A sensor is rigidly attached to the robot.\n",
        "robot_tx_sensor__static = [0, 0, 1]\n",
        "robot_R_sensor__static = SO3.Rx(theta=np.pi / 2.0)\n",
        "robot_T_sensor__static = SE3.Rt(R=robot_R_sensor__static, t=robot_tx_sensor__static)\n",
        "\n",
        "# A sensor non-rigidly attached to the robot\n",
        "robot_T_sensor__dynamic = {\n",
        "    'transforms': [SE3.Rt(R=SO3(), t=[0, 1, 0]), SE3.Rt(R=SO3(), t=[0, 5, 0])],\n",
        "    'timestamps': [2.5, 5.5],\n",
        "    'entity_path': SENSOR_ENTITY_FRAME,\n",
        "}"
      ],
      "metadata": {
        "id": "5ysDhWwqPEnJ"
      },
      "execution_count": null,
      "outputs": []
    },
    {
      "cell_type": "code",
      "source": [
        "rr.init(\"rerun_viewer\")\n",
        "\n",
        "def log_static_transform(entity_frame, transform_se3):\n",
        "    rr.log(\n",
        "        entity_frame,\n",
        "        rr.Transform3D(mat3x3=transform_se3.R, translation=transform_se3.t),\n",
        "        static=True,\n",
        "    )\n",
        "\n",
        "\n",
        "def log_dynamic_transform(transform):\n",
        "    for idx in range(len(transform['transforms'])):\n",
        "        parent_T_child = transform['transforms'][idx]\n",
        "        timestamp = transform['timestamps'][idx]\n",
        "\n",
        "        # Set timestamp.\n",
        "        rr.set_time_seconds(\"hardware_timestamp\", timestamp)\n",
        "\n",
        "        # Set transform.\n",
        "        rr.log(\n",
        "            transform['entity_path'],\n",
        "            rr.Transform3D(mat3x3=parent_T_child.R, translation=parent_T_child.t),\n",
        "            static=False,\n",
        "        )\n",
        "\n",
        "\n",
        "# Log origin transform\n",
        "log_static_transform(WORLD_ENTITY_FRAME, root_T_world)\n",
        "\n",
        "# Log robot pose\n",
        "log_dynamic_transform(world_T_robot)\n",
        "\n",
        "# Log sensor extrinsics\n",
        "# log_static_transform(SENSOR_ENTITY_FRAME, robot_T_sensor__static)\n",
        "log_dynamic_transform(robot_T_sensor__dynamic)"
      ],
      "metadata": {
        "id": "50luUJ2yPO5M"
      },
      "execution_count": null,
      "outputs": []
    },
    {
      "cell_type": "code",
      "source": [
        "rr.notebook_show(width=1400, height=800)"
      ],
      "metadata": {
        "id": "_vCXJGYcPRA6"
      },
      "execution_count": null,
      "outputs": []
    },
    {
      "cell_type": "markdown",
      "source": [
        "### Takeaways\n",
        "* when logging a transform using `rr.log(entity_path='/world/robot/sensor', ...)` defines a transform with:\n",
        "  * parent is `/world/robot`\n",
        "  * child is `/world/robot/sensor`\n",
        "* static transforms move with the parent frame. I.e. if parent frame moves relative to the origin frame - the child transform statically attached to the parent frame will \"move together\" with the parent frame\n",
        "* transforms are not interpolated, instead the last avilable transform is used. Consider a robot `baselink` frame moving between two different poses at timestamps `t=0` and `t=1`. ReRun will render the pose of the frame as follows:\n",
        "  * for $t \\in [0,1)$ - `baselink` frame will be visualized using pose at `t=0`\n",
        "  * for $t \\in [1, +\\inf)$ - `baselink` frame will be visualized using pose at `t=1`"
      ],
      "metadata": {
        "id": "YU1F6nj6RuYs"
      }
    }
  ]
}