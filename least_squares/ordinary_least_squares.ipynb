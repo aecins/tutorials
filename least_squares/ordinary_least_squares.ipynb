{
  "cells": [
    {
      "cell_type": "markdown",
      "metadata": {
        "id": "view-in-github",
        "colab_type": "text"
      },
      "source": [
        "<a href=\"https://colab.research.google.com/github/aecins/tutorials/blob/main/least_squares/ordinary_least_squares.ipynb\" target=\"_parent\"><img src=\"https://colab.research.google.com/assets/colab-badge.svg\" alt=\"Open In Colab\"/></a>"
      ]
    },
    {
      "cell_type": "code",
      "execution_count": 1,
      "id": "2263e7ab",
      "metadata": {
        "id": "2263e7ab"
      },
      "outputs": [],
      "source": [
        "import numpy as np\n",
        "import scipy.linalg"
      ]
    },
    {
      "cell_type": "markdown",
      "id": "b6f3ee3a",
      "metadata": {
        "id": "b6f3ee3a"
      },
      "source": [
        "## Create a linear least squares problem ([wiki](https://en.wikipedia.org/wiki/Linear_regression))\n",
        "We setup a simple linear least squares problem by creating values for:\n",
        "- true parameter values $x$ (sampled from uniform distribution)\n",
        "- independent variables $A$ (sampled from uniform distribution)\n",
        "- dependent variables $b$ (constructed as $Ax + \\mathcal{N}(0, I * \\sigma_b)$, i.e. residuals are uncorrelated and have the same variance)\n",
        "\n",
        "This satisfies the assumptions on the measurement errors of ordinary least squares:\n",
        "- Measurement errors are uncorrelated\n",
        "- Measurement errors have the same variance (this property is called [homoscedasticity](https://en.wikipedia.org/wiki/Homoscedasticity))\n",
        "- Measurement errors are zero mean normally distributed\n",
        "\n",
        "These assumptions can be summarized as a single assumption:\n",
        "- measurement error vector is drawn from a multivariate Gaussian distribution with zero mean and a covariance matrix of $I * \\sigma_b^2$."
      ]
    },
    {
      "cell_type": "code",
      "execution_count": 2,
      "id": "395016c8",
      "metadata": {
        "id": "395016c8"
      },
      "outputs": [],
      "source": [
        "# Function that generates random values drawn from uniform distribution with a given range.\n",
        "def generate_random_uniform(y_size, x_size, value_min, value_max):\n",
        "    assert(value_max > value_min)\n",
        "\n",
        "    values = np.random.rand(y_size, x_size)\n",
        "    values = values * (value_max - value_min)\n",
        "    values = values + value_min\n",
        "\n",
        "    return values"
      ]
    },
    {
      "cell_type": "code",
      "execution_count": 3,
      "id": "0911e759",
      "metadata": {
        "id": "0911e759",
        "outputId": "95cb1a29-b807-40fa-fdb4-fc12c66a0e0c",
        "colab": {
          "base_uri": "https://localhost:8080/"
        }
      },
      "outputs": [
        {
          "output_type": "stream",
          "name": "stdout",
          "text": [
            "[[ 7.23110774]\n",
            " [-2.4345187 ]\n",
            " [ 6.18771675]]\n"
          ]
        }
      ],
      "source": [
        "# Create true parameters of a linear least squares problem by sampling them uniformly\n",
        "# in the range [-X_TRUE_MAGNITUDE; X_TRUE_MAGNITUDE]\n",
        "NUM_PARAMETERS = 3\n",
        "X_TRUE_MAGNITUDE = 10\n",
        "\n",
        "x_true = generate_random_uniform(NUM_PARAMETERS, 1, -X_TRUE_MAGNITUDE, X_TRUE_MAGNITUDE)\n",
        "print(x_true)"
      ]
    },
    {
      "cell_type": "code",
      "execution_count": 4,
      "id": "05b98665",
      "metadata": {
        "id": "05b98665"
      },
      "outputs": [],
      "source": [
        "# Function that generates random independent variables (A) and corresponding noisy dependent variables (b)\n",
        "# for a linear least squares problem.\n",
        "def generate_Ab(x_true, num_measurements, A_magnitude, b_noise_sigma):\n",
        "    # First generate independent variables aka A matrix.\n",
        "    # These are generated from a uniform distribution in the range [-A_magnitude; A_magnitude]\n",
        "    A = generate_random_uniform(NUM_MEASUREMENTS, NUM_PARAMETERS, -A_magnitude, A_magnitude)\n",
        "\n",
        "    # Next generate dependent variables aka vector b.\n",
        "    # These are generated as values predicted by the true values of the model + measurement noise\n",
        "    measurement_noise = (np.random.normal(0, b_noise_sigma, [num_measurements, 1]))\n",
        "    b = A.dot(x_true) + measurement_noise\n",
        "\n",
        "    return [A, b]"
      ]
    },
    {
      "cell_type": "code",
      "execution_count": 5,
      "id": "8aa98c55",
      "metadata": {
        "id": "8aa98c55"
      },
      "outputs": [],
      "source": [
        "# Generate measurements.\n",
        "NUM_MEASUREMENTS = 100000\n",
        "A_MAGNITUDE = 0.1\n",
        "B_NOISE_SIGMA = 10\n",
        "\n",
        "[A, b] = generate_Ab(x_true, NUM_MEASUREMENTS, A_MAGNITUDE, B_NOISE_SIGMA)"
      ]
    },
    {
      "cell_type": "markdown",
      "id": "bd1f9734",
      "metadata": {
        "id": "bd1f9734"
      },
      "source": [
        "## Validate residuals\n",
        "The vector of residuals is defined as:\n",
        "$$\n",
        "r = Ax - b\n",
        "$$\n",
        "We can check that the system was constructed correctly by checking that residuals evaluated at ground truth parameter values have the same distribution as the noise that was added to dependent measurements $b$:\n",
        "$$\n",
        "b = Ax_{true} + \\mathcal{N}(0, \\sigma_b) \\\\\n",
        "r = Ax_{true} - b \\\\\n",
        "r \\sim \\mathcal{N}(0, \\sigma_b)\n",
        "$$"
      ]
    },
    {
      "cell_type": "code",
      "execution_count": 6,
      "id": "b368c587",
      "metadata": {
        "scrolled": false,
        "id": "b368c587",
        "outputId": "18a8f428-5e66-4fd6-b12c-61bd4b942681",
        "colab": {
          "base_uri": "https://localhost:8080/"
        }
      },
      "outputs": [
        {
          "output_type": "stream",
          "name": "stdout",
          "text": [
            "Statistics of residuals evaluated at true parameter values\n",
            "mean  : estimated -0.048, expected 0.000\n",
            "sigma : estimated 9.989, expected 10.000\n"
          ]
        }
      ],
      "source": [
        "# Check that the residuals evaluated at true parameter values have the same statistics as measurement noise.\n",
        "residuals_true = A.dot(x_true) - b\n",
        "print(\"Statistics of residuals evaluated at true parameter values\")\n",
        "print(\"mean  : estimated {:.3f}, expected {:.3f}\".format(np.mean(residuals_true), 0))\n",
        "print(\"sigma : estimated {:.3f}, expected {:.3f}\".format(np.std(residuals_true), B_NOISE_SIGMA))"
      ]
    },
    {
      "cell_type": "markdown",
      "id": "3b9cc651",
      "metadata": {
        "id": "3b9cc651"
      },
      "source": [
        "## Jacobian\n",
        "[Jacobian](https://en.wikipedia.org/wiki/Jacobian_matrix_and_determinant) of a vector-valued function is defined as a matrix of partial derivatives of the value of the function with respect to its parameters . In the context of optimization we are interested in the Jacobian of the residuals since the tells us how the residuals change as we change the parameters.\n",
        "\n",
        "For a linear least squares problem we have:\n",
        "$$\n",
        "\\begin{align*}\n",
        "r(x) & = Ax - b \\\\\n",
        "J & = \\begin{bmatrix}\\dfrac{dr_i}{dx_j}\\end{bmatrix} = A\n",
        "\\end{align*}\n",
        "$$\n",
        "\n",
        "### Validating Jacobian\n",
        "For any linear function $f(x)$ with Jacobian $J$ we can predict the value of a function at one point given the value of the function at another point:\n",
        "$$\n",
        "f(x) = f(y) + J * (x - y) = f(y) + J \\Delta\n",
        "$$\n",
        "where $\\Delta = x-y$ is a vector and $J \\Delta$ is a matrix vector product."
      ]
    },
    {
      "cell_type": "code",
      "execution_count": 7,
      "id": "11e0cb35",
      "metadata": {
        "id": "11e0cb35",
        "outputId": "bb43a7b5-9ab9-4297-8615-2fe3e70c621c",
        "colab": {
          "base_uri": "https://localhost:8080/"
        }
      },
      "outputs": [
        {
          "output_type": "stream",
          "name": "stdout",
          "text": [
            "Maximum norm of the difference between true and predicted values of the residual: 0.00\n"
          ]
        }
      ],
      "source": [
        "# Validate Jacobian of the residual function.\n",
        "NUM_JACOBIAN_TESTS = 100\n",
        "max_value_difference = 0\n",
        "\n",
        "# Calculate Jacobian.\n",
        "J = A\n",
        "\n",
        "for i in range(NUM_JACOBIAN_TESTS):\n",
        "    # Create two random parameter values.\n",
        "    x = generate_random_uniform(NUM_PARAMETERS, 1, -X_TRUE_MAGNITUDE, X_TRUE_MAGNITUDE)\n",
        "    y = generate_random_uniform(NUM_PARAMETERS, 1, -X_TRUE_MAGNITUDE, X_TRUE_MAGNITUDE)\n",
        "\n",
        "    # Calculate residuals\n",
        "    r_x = A.dot(x) - b\n",
        "    r_y = A.dot(y) - b\n",
        "\n",
        "    # Calculate predicted residual\n",
        "    delta = x - y\n",
        "    r_x_predicted = r_y + J.dot(delta)\n",
        "    max_value_difference = max(max_value_difference, np.linalg.norm(r_x - r_x_predicted))\n",
        "\n",
        "print(\"Maximum norm of the difference between true and predicted values of the residual: {:.2f}\".format(max_value_difference))"
      ]
    },
    {
      "cell_type": "markdown",
      "id": "0d4b055a",
      "metadata": {
        "id": "0d4b055a"
      },
      "source": [
        "## Normal equations\n",
        "An optimal solution $x^*$ to the linear least squares problem is the solution to the system of linear equations called the [normal equations](https://en.wikipedia.org/wiki/Ordinary_least_squares#Matrix/vector_formulation):\n",
        "$$A^TA x^* = A^Tb$$\n",
        "TODO: add link to normal equations derivation\n",
        "\n",
        "### Information matrix / Hessian\n",
        "$A^TA$ is also known as the information matrix $\\mathcal{I}$. It can also be interpreted as the matrix of second order partial derivatives of the least squares cost function with respect to parameters $x$. In other words $A^TA$ is the [Hessian](https://en.wikipedia.org/wiki/Hessian_matrix) of the cost function:\n",
        "$$\n",
        "f(x) = ||Ax - b||^2 \\\\\n",
        "H = \\begin{bmatrix} \\dfrac{\\partial f}{\\partial x_i  \\partial x_j} \\end{bmatrix} = A^TA\n",
        "$$\n",
        "\n",
        "\n",
        "\n",
        "## Solving by inverting the information matrix\n",
        "Optimal solution to the problem can be found by inverting the information matrix:\n",
        "\n",
        "$$x^* = (A^T A)^{-1} A^T b$$"
      ]
    },
    {
      "cell_type": "code",
      "execution_count": 8,
      "id": "98735167",
      "metadata": {
        "id": "98735167",
        "outputId": "2996d098-2668-49c0-9e73-fd1d6dbc3481",
        "colab": {
          "base_uri": "https://localhost:8080/"
        }
      },
      "outputs": [
        {
          "output_type": "stream",
          "name": "stdout",
          "text": [
            "CPU times: user 1.9 ms, sys: 1.96 ms, total: 3.86 ms\n",
            "Wall time: 1.94 ms\n"
          ]
        }
      ],
      "source": [
        "# Solve linear least squares problem by inverting the information matrix.\n",
        "def solve_using_matrix_inverse(A, b):\n",
        "    I = A.transpose().dot(A)\n",
        "    I_inv = np.linalg.inv(I)\n",
        "    Atb = (A.transpose()).dot(b)\n",
        "    return np.matmul(I_inv, Atb)\n",
        "\n",
        "%time x_estimated = solve_using_matrix_inverse(A, b)"
      ]
    },
    {
      "cell_type": "code",
      "execution_count": 9,
      "id": "c8820bd1",
      "metadata": {
        "id": "c8820bd1",
        "outputId": "b8f49e63-b47f-47f8-c83c-4d82faf45c0b",
        "colab": {
          "base_uri": "https://localhost:8080/"
        }
      },
      "outputs": [
        {
          "output_type": "stream",
          "name": "stdout",
          "text": [
            "Root Mean Squared Error of paramters estimated using information matrix inverse:\n",
            " 0.395545\n"
          ]
        }
      ],
      "source": [
        "# Calculate RMSE of parameters.\n",
        "def parameter_rmse(x_estimated, x_true):\n",
        "    assert(len(x_estimated) == len(x_true))\n",
        "    return np.linalg.norm(x_estimated - x_true) / len(x_estimated)\n",
        "\n",
        "rmse = parameter_rmse(x_estimated, x_true)\n",
        "print(\"Root Mean Squared Error of paramters estimated using information matrix inverse:\\n {:f}\".format(rmse))"
      ]
    },
    {
      "cell_type": "markdown",
      "id": "2936224d",
      "metadata": {
        "id": "2936224d"
      },
      "source": [
        "## Solve using factorization of the information matrix\n",
        "Using least squares problems by inverting the information matrix has several downsides:\n",
        "- inverting large matrices is slow\n",
        "- inverting matrices is numerically unstable\n",
        "\n",
        "Alternatively, we can take advantage of the special structure of the information matrix. Since $\\mathcal{I} = A^TA$ is a real summetric matrix we can factorize it using the [LDL decomposition](https://en.wikipedia.org/wiki/Cholesky_decomposition#LDL_decomposition):\n",
        "$$A^TA = LDL^T$$\n",
        "where $L$ is a lower diagonal matrix with unit diagonal and $D$ is a diagonal matrix. Normal equations become:\n",
        "$$\n",
        "LDL^Tx^* = A^Tb\n",
        "$$\n",
        "The solution can be obtained by solving a series of [systems of linear equations](https://en.wikipedia.org/wiki/System_of_linear_equations) (not to be confused with linear least squares problems!):\n",
        "1. $Ly_1 = A^Tb$ (solved using [forward substituition](https://en.wikipedia.org/wiki/Triangular_matrix#Forward_and_back_substitution) since $L$ is lower triangular)\n",
        "1. $Dy_2 = y_1$ (solved by element-wise division since $D$ is a diagonal matrix)\n",
        "1. $L^Tx^* = y_2$ (solved using [back substituition](https://en.wikipedia.org/wiki/Triangular_matrix#Forward_and_back_substitution) since $L^T$ is upper triangular)\n",
        "\n",
        "Note that none of the steps in the solution (calculating $A^TA$ and $A^Tb$, computing the LDL factorization of $A^TA$) and solving the resulting linear system of equations) require expensive operations like taking matrix inverse, squaring or taking square roots. In fact they only requires multiply-adds. This makes this approach both fast and numerically stable.\n",
        "\n",
        "$LDL^T$ solver is implemeted in the [Eigen C++ library](https://eigen.tuxfamily.org/dox/classEigen_1_1LDLT.html#aa257dd7a8acf8b347d5a22a13d6ca3e1)."
      ]
    },
    {
      "cell_type": "code",
      "execution_count": 10,
      "id": "ca39a52c",
      "metadata": {
        "id": "ca39a52c",
        "outputId": "76ae2b1c-0f9b-4d4c-9bee-ba9b8164399e",
        "colab": {
          "base_uri": "https://localhost:8080/"
        }
      },
      "outputs": [
        {
          "output_type": "stream",
          "name": "stdout",
          "text": [
            "CPU times: user 1.8 ms, sys: 3.34 ms, total: 5.14 ms\n",
            "Wall time: 2.58 ms\n",
            "Root Mean Squared Error of paramters estimated using LDL factorization:\n",
            " 0.395545\n"
          ]
        }
      ],
      "source": [
        "# Solve linear least squares problem using LDL factorization.\n",
        "def solve_using_ldl(A, b):\n",
        "    # Calculate LDL factorization of the information matrix\n",
        "    I = A.transpose().dot(A)\n",
        "    [L, D, perm] = scipy.linalg.ldl(I)\n",
        "\n",
        "    # Solve Ly_1 = A^Tb\n",
        "    y1 = scipy.linalg.solve_triangular(L, A.transpose().dot(b), trans=0, lower=True, unit_diagonal=True)\n",
        "\n",
        "    # Solve Dy2 = y1\n",
        "    diagonal = np.diagonal(D).reshape(-1, 1)\n",
        "    y2 = np.divide(y1, diagonal)\n",
        "\n",
        "    # Solve L^Tx^* = y_2\n",
        "    return scipy.linalg.solve_triangular(L.transpose(), y2, trans=0, lower=False, unit_diagonal=True)\n",
        "\n",
        "%time x_estimated = solve_using_ldl(A, b)\n",
        "rmse = parameter_rmse(x_estimated, x_true)\n",
        "print(\"Root Mean Squared Error of paramters estimated using LDL factorization:\\n {:f}\".format(rmse))"
      ]
    },
    {
      "cell_type": "markdown",
      "id": "7d25ef9c",
      "metadata": {
        "id": "7d25ef9c"
      },
      "source": [
        "#### Note on the runtime\n",
        "The algorithm used for calcularing matrix inverse in `numpy.linalg.inv` is optimized for performance. Hence we don't see a large improvement in the runtime between inverse information matrix and LDLT solvers."
      ]
    },
    {
      "cell_type": "markdown",
      "id": "d744c68f",
      "metadata": {
        "id": "d744c68f"
      },
      "source": [
        "## Solution covariance\n",
        "### Estimating covariance using information matrix\n",
        "Given a linear least squares problem $Ax = b$ the covariance matrix of the solution can be estimated as:\n",
        "$$cov(x^*) = (A^T A)^{-1} \\sigma_b^2$$\n",
        "where $\\sigma_b$ is the standard deviation of the residuals [[proof](https://github.com/aecins/tutorials/blob/main/least_squares/least_squares_covariance_derivation.ipynb)].\n",
        "\n",
        "We expect the covariance matrix to be approximately equal to $I * \\alpha$ for some scaling factor $\\alpha$. This is because all of the measurements in $A$ and $b$ are independent (hence cross-covariance terms should be zero)."
      ]
    },
    {
      "cell_type": "code",
      "execution_count": 11,
      "id": "6bc51f7e",
      "metadata": {
        "id": "6bc51f7e",
        "outputId": "4954c964-b625-42f4-b08d-afbae0eee17d",
        "colab": {
          "base_uri": "https://localhost:8080/"
        }
      },
      "outputs": [
        {
          "output_type": "stream",
          "name": "stdout",
          "text": [
            "Solution covariance estimated using A matrix from a single problem:\n",
            "[[ 0.300  0.002  0.001]\n",
            " [ 0.002  0.299  0.001]\n",
            " [ 0.001  0.001  0.301]]\n"
          ]
        }
      ],
      "source": [
        "# Calculate the covariance matrix of the estimated parameters.\n",
        "x_estimated_covariance = np.linalg.inv(np.matmul(A.transpose(), A)) * B_NOISE_SIGMA * B_NOISE_SIGMA\n",
        "print(\"Solution covariance estimated using A matrix from a single problem:\")\n",
        "np.set_printoptions(formatter={'float': '{: 0.3f}'.format})\n",
        "print(x_estimated_covariance)"
      ]
    },
    {
      "cell_type": "markdown",
      "id": "5ac8b488",
      "metadata": {
        "id": "5ac8b488"
      },
      "source": [
        "### Estimating covariane using bootstrap\n",
        "Another way to estimate covariance of the solution is to use a bootstrap method. The high-level idea of this method is to:\n",
        "1. generate multiple optimization problems that are \"equivalent\" to the original problem\n",
        "2. solve these problems and get multiple estimates of the solution $x$\n",
        "3. calculate the covariance matrix of the obtained solutionsand then calculate\n",
        "\n",
        "Multiple ways were proposed to generate \"equivalent\" optimization problems ([wiki](https://en.wikipedia.org/wiki/Bootstrapping_(statistics))). One way is to resample with replacement the constraints in the optimization problems. That corresponds to resampling the rows in the matrix $A$ and corresponding values in $b$. In our case, since we are using synthetic data that is generated from a known distribution - we can simply generate multiple problems that:\n",
        "- have the same solution $x$\n",
        "- values in $A$ and $b$ are drawn from the same distribution"
      ]
    },
    {
      "cell_type": "code",
      "execution_count": 24,
      "id": "0a82fcb6",
      "metadata": {
        "id": "0a82fcb6",
        "outputId": "a68af1e6-9b82-4fe0-be40-4705e2c1acae",
        "colab": {
          "base_uri": "https://localhost:8080/",
          "height": 153,
          "referenced_widgets": [
            "fc08d868bdbd4c1383e569ae08b7277a",
            "6620dd9a7fcd49b68a5e078fa5efe1a6",
            "7299821620e6400396871ed2379c5bed",
            "e3907987724847d5beb524b8835cb550",
            "4f4bf5d18c7c4270ae15f1e77118136e",
            "6b1558ff8a41412287331481eb7634aa",
            "dbca0eef8fb64f8ca461656d96e539ad",
            "12f2965fe5d242328fa1b8e874253908",
            "4324310794624264bae2fa01421efb78",
            "43b9ed5cf917464d9f982776613951fb",
            "da2905ae67ed412eb90d1d392d2aa5ab"
          ]
        }
      },
      "outputs": [
        {
          "output_type": "display_data",
          "data": {
            "text/plain": [
              "  0%|          | 0/10000 [00:00<?, ?it/s]"
            ],
            "application/vnd.jupyter.widget-view+json": {
              "version_major": 2,
              "version_minor": 0,
              "model_id": "fc08d868bdbd4c1383e569ae08b7277a"
            }
          },
          "metadata": {}
        },
        {
          "output_type": "stream",
          "name": "stdout",
          "text": [
            "Solution covariance estimated using bootstrap:\n",
            "[[ 0.308 -0.004  0.002]\n",
            " [-0.004  0.300  0.003]\n",
            " [ 0.002  0.003  0.298]]\n",
            "CPU times: user 2min 37s, sys: 2min 5s, total: 4min 43s\n",
            "Wall time: 2min 53s\n"
          ]
        }
      ],
      "source": [
        "%%time\n",
        "\n",
        "from tqdm.notebook import tqdm\n",
        "\n",
        "# Calculate the covariance matrix using bootstrap.\n",
        "# We create multiple problems with the same true solution but different measurements (A, b)(same measurement noise).\n",
        "# We then calculate the covariance matrix of the solutions to these problems.\n",
        "NUM_BOOTSTRAP_ITERATIONS = 10000\n",
        "x_estimates = np.zeros((NUM_PARAMETERS, NUM_BOOTSTRAP_ITERATIONS))\n",
        "for i in tqdm(range(NUM_BOOTSTRAP_ITERATIONS)):\n",
        "    # Generate A and b.\n",
        "    [A, b] = generate_Ab(x_true, NUM_MEASUREMENTS, A_MAGNITUDE, B_NOISE_SIGMA)\n",
        "\n",
        "    # Solve.\n",
        "    x_estimated = solve_using_matrix_inverse(A, b)\n",
        "\n",
        "    # Append to solutions\n",
        "    x_estimates[:, i] = x_estimated[:, 0]\n",
        "\n",
        "print(\"Solution covariance estimated using bootstrap:\")\n",
        "print(np.cov(x_estimates))"
      ]
    },
    {
      "cell_type": "code",
      "source": [
        "# TODO: add an analytical derivation of the covariance of the solution."
      ],
      "metadata": {
        "id": "DF3VwgVN6swc"
      },
      "id": "DF3VwgVN6swc",
      "execution_count": null,
      "outputs": []
    }
  ],
  "metadata": {
    "kernelspec": {
      "display_name": "Python 3",
      "language": "python",
      "name": "python3"
    },
    "language_info": {
      "codemirror_mode": {
        "name": "ipython",
        "version": 3
      },
      "file_extension": ".py",
      "mimetype": "text/x-python",
      "name": "python",
      "nbconvert_exporter": "python",
      "pygments_lexer": "ipython3",
      "version": "3.6.8"
    },
    "colab": {
      "provenance": [],
      "include_colab_link": true
    },
    "widgets": {
      "application/vnd.jupyter.widget-state+json": {
        "fc08d868bdbd4c1383e569ae08b7277a": {
          "model_module": "@jupyter-widgets/controls",
          "model_name": "HBoxModel",
          "model_module_version": "1.5.0",
          "state": {
            "_dom_classes": [],
            "_model_module": "@jupyter-widgets/controls",
            "_model_module_version": "1.5.0",
            "_model_name": "HBoxModel",
            "_view_count": null,
            "_view_module": "@jupyter-widgets/controls",
            "_view_module_version": "1.5.0",
            "_view_name": "HBoxView",
            "box_style": "",
            "children": [
              "IPY_MODEL_6620dd9a7fcd49b68a5e078fa5efe1a6",
              "IPY_MODEL_7299821620e6400396871ed2379c5bed",
              "IPY_MODEL_e3907987724847d5beb524b8835cb550"
            ],
            "layout": "IPY_MODEL_4f4bf5d18c7c4270ae15f1e77118136e"
          }
        },
        "6620dd9a7fcd49b68a5e078fa5efe1a6": {
          "model_module": "@jupyter-widgets/controls",
          "model_name": "HTMLModel",
          "model_module_version": "1.5.0",
          "state": {
            "_dom_classes": [],
            "_model_module": "@jupyter-widgets/controls",
            "_model_module_version": "1.5.0",
            "_model_name": "HTMLModel",
            "_view_count": null,
            "_view_module": "@jupyter-widgets/controls",
            "_view_module_version": "1.5.0",
            "_view_name": "HTMLView",
            "description": "",
            "description_tooltip": null,
            "layout": "IPY_MODEL_6b1558ff8a41412287331481eb7634aa",
            "placeholder": "​",
            "style": "IPY_MODEL_dbca0eef8fb64f8ca461656d96e539ad",
            "value": "100%"
          }
        },
        "7299821620e6400396871ed2379c5bed": {
          "model_module": "@jupyter-widgets/controls",
          "model_name": "FloatProgressModel",
          "model_module_version": "1.5.0",
          "state": {
            "_dom_classes": [],
            "_model_module": "@jupyter-widgets/controls",
            "_model_module_version": "1.5.0",
            "_model_name": "FloatProgressModel",
            "_view_count": null,
            "_view_module": "@jupyter-widgets/controls",
            "_view_module_version": "1.5.0",
            "_view_name": "ProgressView",
            "bar_style": "success",
            "description": "",
            "description_tooltip": null,
            "layout": "IPY_MODEL_12f2965fe5d242328fa1b8e874253908",
            "max": 10000,
            "min": 0,
            "orientation": "horizontal",
            "style": "IPY_MODEL_4324310794624264bae2fa01421efb78",
            "value": 10000
          }
        },
        "e3907987724847d5beb524b8835cb550": {
          "model_module": "@jupyter-widgets/controls",
          "model_name": "HTMLModel",
          "model_module_version": "1.5.0",
          "state": {
            "_dom_classes": [],
            "_model_module": "@jupyter-widgets/controls",
            "_model_module_version": "1.5.0",
            "_model_name": "HTMLModel",
            "_view_count": null,
            "_view_module": "@jupyter-widgets/controls",
            "_view_module_version": "1.5.0",
            "_view_name": "HTMLView",
            "description": "",
            "description_tooltip": null,
            "layout": "IPY_MODEL_43b9ed5cf917464d9f982776613951fb",
            "placeholder": "​",
            "style": "IPY_MODEL_da2905ae67ed412eb90d1d392d2aa5ab",
            "value": " 10000/10000 [02:53&lt;00:00, 70.37it/s]"
          }
        },
        "4f4bf5d18c7c4270ae15f1e77118136e": {
          "model_module": "@jupyter-widgets/base",
          "model_name": "LayoutModel",
          "model_module_version": "1.2.0",
          "state": {
            "_model_module": "@jupyter-widgets/base",
            "_model_module_version": "1.2.0",
            "_model_name": "LayoutModel",
            "_view_count": null,
            "_view_module": "@jupyter-widgets/base",
            "_view_module_version": "1.2.0",
            "_view_name": "LayoutView",
            "align_content": null,
            "align_items": null,
            "align_self": null,
            "border": null,
            "bottom": null,
            "display": null,
            "flex": null,
            "flex_flow": null,
            "grid_area": null,
            "grid_auto_columns": null,
            "grid_auto_flow": null,
            "grid_auto_rows": null,
            "grid_column": null,
            "grid_gap": null,
            "grid_row": null,
            "grid_template_areas": null,
            "grid_template_columns": null,
            "grid_template_rows": null,
            "height": null,
            "justify_content": null,
            "justify_items": null,
            "left": null,
            "margin": null,
            "max_height": null,
            "max_width": null,
            "min_height": null,
            "min_width": null,
            "object_fit": null,
            "object_position": null,
            "order": null,
            "overflow": null,
            "overflow_x": null,
            "overflow_y": null,
            "padding": null,
            "right": null,
            "top": null,
            "visibility": null,
            "width": null
          }
        },
        "6b1558ff8a41412287331481eb7634aa": {
          "model_module": "@jupyter-widgets/base",
          "model_name": "LayoutModel",
          "model_module_version": "1.2.0",
          "state": {
            "_model_module": "@jupyter-widgets/base",
            "_model_module_version": "1.2.0",
            "_model_name": "LayoutModel",
            "_view_count": null,
            "_view_module": "@jupyter-widgets/base",
            "_view_module_version": "1.2.0",
            "_view_name": "LayoutView",
            "align_content": null,
            "align_items": null,
            "align_self": null,
            "border": null,
            "bottom": null,
            "display": null,
            "flex": null,
            "flex_flow": null,
            "grid_area": null,
            "grid_auto_columns": null,
            "grid_auto_flow": null,
            "grid_auto_rows": null,
            "grid_column": null,
            "grid_gap": null,
            "grid_row": null,
            "grid_template_areas": null,
            "grid_template_columns": null,
            "grid_template_rows": null,
            "height": null,
            "justify_content": null,
            "justify_items": null,
            "left": null,
            "margin": null,
            "max_height": null,
            "max_width": null,
            "min_height": null,
            "min_width": null,
            "object_fit": null,
            "object_position": null,
            "order": null,
            "overflow": null,
            "overflow_x": null,
            "overflow_y": null,
            "padding": null,
            "right": null,
            "top": null,
            "visibility": null,
            "width": null
          }
        },
        "dbca0eef8fb64f8ca461656d96e539ad": {
          "model_module": "@jupyter-widgets/controls",
          "model_name": "DescriptionStyleModel",
          "model_module_version": "1.5.0",
          "state": {
            "_model_module": "@jupyter-widgets/controls",
            "_model_module_version": "1.5.0",
            "_model_name": "DescriptionStyleModel",
            "_view_count": null,
            "_view_module": "@jupyter-widgets/base",
            "_view_module_version": "1.2.0",
            "_view_name": "StyleView",
            "description_width": ""
          }
        },
        "12f2965fe5d242328fa1b8e874253908": {
          "model_module": "@jupyter-widgets/base",
          "model_name": "LayoutModel",
          "model_module_version": "1.2.0",
          "state": {
            "_model_module": "@jupyter-widgets/base",
            "_model_module_version": "1.2.0",
            "_model_name": "LayoutModel",
            "_view_count": null,
            "_view_module": "@jupyter-widgets/base",
            "_view_module_version": "1.2.0",
            "_view_name": "LayoutView",
            "align_content": null,
            "align_items": null,
            "align_self": null,
            "border": null,
            "bottom": null,
            "display": null,
            "flex": null,
            "flex_flow": null,
            "grid_area": null,
            "grid_auto_columns": null,
            "grid_auto_flow": null,
            "grid_auto_rows": null,
            "grid_column": null,
            "grid_gap": null,
            "grid_row": null,
            "grid_template_areas": null,
            "grid_template_columns": null,
            "grid_template_rows": null,
            "height": null,
            "justify_content": null,
            "justify_items": null,
            "left": null,
            "margin": null,
            "max_height": null,
            "max_width": null,
            "min_height": null,
            "min_width": null,
            "object_fit": null,
            "object_position": null,
            "order": null,
            "overflow": null,
            "overflow_x": null,
            "overflow_y": null,
            "padding": null,
            "right": null,
            "top": null,
            "visibility": null,
            "width": null
          }
        },
        "4324310794624264bae2fa01421efb78": {
          "model_module": "@jupyter-widgets/controls",
          "model_name": "ProgressStyleModel",
          "model_module_version": "1.5.0",
          "state": {
            "_model_module": "@jupyter-widgets/controls",
            "_model_module_version": "1.5.0",
            "_model_name": "ProgressStyleModel",
            "_view_count": null,
            "_view_module": "@jupyter-widgets/base",
            "_view_module_version": "1.2.0",
            "_view_name": "StyleView",
            "bar_color": null,
            "description_width": ""
          }
        },
        "43b9ed5cf917464d9f982776613951fb": {
          "model_module": "@jupyter-widgets/base",
          "model_name": "LayoutModel",
          "model_module_version": "1.2.0",
          "state": {
            "_model_module": "@jupyter-widgets/base",
            "_model_module_version": "1.2.0",
            "_model_name": "LayoutModel",
            "_view_count": null,
            "_view_module": "@jupyter-widgets/base",
            "_view_module_version": "1.2.0",
            "_view_name": "LayoutView",
            "align_content": null,
            "align_items": null,
            "align_self": null,
            "border": null,
            "bottom": null,
            "display": null,
            "flex": null,
            "flex_flow": null,
            "grid_area": null,
            "grid_auto_columns": null,
            "grid_auto_flow": null,
            "grid_auto_rows": null,
            "grid_column": null,
            "grid_gap": null,
            "grid_row": null,
            "grid_template_areas": null,
            "grid_template_columns": null,
            "grid_template_rows": null,
            "height": null,
            "justify_content": null,
            "justify_items": null,
            "left": null,
            "margin": null,
            "max_height": null,
            "max_width": null,
            "min_height": null,
            "min_width": null,
            "object_fit": null,
            "object_position": null,
            "order": null,
            "overflow": null,
            "overflow_x": null,
            "overflow_y": null,
            "padding": null,
            "right": null,
            "top": null,
            "visibility": null,
            "width": null
          }
        },
        "da2905ae67ed412eb90d1d392d2aa5ab": {
          "model_module": "@jupyter-widgets/controls",
          "model_name": "DescriptionStyleModel",
          "model_module_version": "1.5.0",
          "state": {
            "_model_module": "@jupyter-widgets/controls",
            "_model_module_version": "1.5.0",
            "_model_name": "DescriptionStyleModel",
            "_view_count": null,
            "_view_module": "@jupyter-widgets/base",
            "_view_module_version": "1.2.0",
            "_view_name": "StyleView",
            "description_width": ""
          }
        }
      }
    }
  },
  "nbformat": 4,
  "nbformat_minor": 5
}