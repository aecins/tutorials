{
  "cells": [
    {
      "cell_type": "markdown",
      "metadata": {
        "id": "view-in-github",
        "colab_type": "text"
      },
      "source": [
        "<a href=\"https://colab.research.google.com/github/aecins/tutorials/blob/main/least_squares/whitening_transform.ipynb\" target=\"_parent\"><img src=\"https://colab.research.google.com/assets/colab-badge.svg\" alt=\"Open In Colab\"/></a>"
      ]
    },
    {
      "cell_type": "code",
      "execution_count": null,
      "id": "b8722391",
      "metadata": {
        "id": "b8722391"
      },
      "outputs": [],
      "source": [
        "import numpy as np\n",
        "import matplotlib.pyplot as plt\n",
        "from scipy.linalg import sqrtm\n",
        "\n",
        "NUM_PARAMETERS = 2\n",
        "\n",
        "# Function that generates random values drawn from uniform distribution with a given range.\n",
        "def generate_random_uniform(y_size, x_size, value_min, value_max):\n",
        "    assert(value_max > value_min)\n",
        "\n",
        "    values = np.random.rand(y_size, x_size)\n",
        "    values = values * (value_max - value_min)\n",
        "    values = values + value_min\n",
        "\n",
        "    return values"
      ]
    },
    {
      "cell_type": "code",
      "execution_count": null,
      "id": "2987b19d",
      "metadata": {
        "id": "2987b19d",
        "outputId": "f3eb3f4c-e7be-4bdb-aa4a-ddf5d45872ea"
      },
      "outputs": [
        {
          "name": "stdout",
          "output_type": "stream",
          "text": [
            "[[ 1.8973024  -0.9765695 ]\n",
            " [-0.9765695   0.73336599]]\n"
          ]
        }
      ],
      "source": [
        "# Create a random covariance matrix. This can be done by creating a random square matrix M\n",
        "# and then constructing covariance matrix as cov = M^t * M\n",
        "M = generate_random_uniform(NUM_PARAMETERS, NUM_PARAMETERS, -1, 1)\n",
        "cov = M.transpose().dot(M)\n",
        "print(cov)"
      ]
    },
    {
      "cell_type": "code",
      "execution_count": null,
      "id": "6ab2aee5",
      "metadata": {
        "id": "6ab2aee5",
        "outputId": "7b823e3d-0b1e-43cb-8e77-0a0ce889bb23"
      },
      "outputs": [
        {
          "name": "stdout",
          "output_type": "stream",
          "text": [
            "Measured sample covariance:\n",
            "[[ 1.91947319 -0.9881624 ]\n",
            " [-0.9881624   0.74009747]]\n"
          ]
        }
      ],
      "source": [
        "# Generate samples from a Gaussain distribution with zero mean and given covariance matrix\n",
        "NUM_SAMPLES = 100000\n",
        "mean = np.zeros(NUM_PARAMETERS)\n",
        "samples = np.random.multivariate_normal(mean, cov, NUM_SAMPLES).transpose()\n",
        "\n",
        "# Check that sample covariance is close to true covariance.\n",
        "print(\"Measured sample covariance:\")\n",
        "print(np.cov(samples))"
      ]
    },
    {
      "cell_type": "code",
      "execution_count": null,
      "id": "75696194",
      "metadata": {
        "id": "75696194",
        "outputId": "f7d9537e-b130-46e8-e6f7-ee3f498051da"
      },
      "outputs": [
        {
          "data": {
            "image/png": "[encoded data removed]",
            "text/plain": [
              "<Figure size 432x288 with 1 Axes>"
            ]
          },
          "metadata": {
            "needs_background": "light"
          },
          "output_type": "display_data"
        }
      ],
      "source": [
        "# Plot a scatter plot of samples.\n",
        "def plot_samples(samples):\n",
        "    # Scatterplot of samples.\n",
        "    max_val = np.absolute(samples).max()\n",
        "    plt.scatter(samples[0,:], samples[1,:])\n",
        "\n",
        "    # Eigenvectors of the covariance matrix.\n",
        "    cov = np.cov(samples)\n",
        "    [eival, eivec] = np.linalg.eig(cov)\n",
        "    eivec_scaled = eivec * np.sqrt(eival)  # scale eigenvectors by the square root of eigen values\n",
        "    plt.plot([0, eivec_scaled[0, 0]], [0, eivec_scaled[1, 0]], 'k')\n",
        "    plt.plot([0, eivec_scaled[0, 1]], [0, eivec_scaled[1, 1]], 'k')\n",
        "\n",
        "    plt.axis('equal')\n",
        "\n",
        "plot_samples(samples)"
      ]
    },
    {
      "cell_type": "markdown",
      "id": "e19fa138",
      "metadata": {
        "id": "e19fa138"
      },
      "source": [
        "## Whitening transforms ([wiki](https://en.wikipedia.org/wiki/Whitening_transformation))\n",
        "Given a random variable $X$ with a covariance matrix $\\Sigma$ a whitening transform $W$ is a linear transform that transforms $X$ to have an indetity covariance matrix:\n",
        "$$cov(X) = \\Sigma \\\\\n",
        "cov(WX) = I$$\n",
        "\n",
        "In other words, a whitening transform decorrelates the elements of $X$ and scales them to have unit variance.\n",
        "\n",
        "Given a multivariate random distribution with a covariance matrix $\\Sigma$ we can think of the covariance as an elipse that represents the spread of points sampled from the random distribution. A whitening transform rotates the ellipse and scales its axes to transform it into a unit circle.\n",
        "\n",
        "### Properties\n",
        "Transforming a random variable $X$ with a linear transform $M$ has the following effect on the covariance:\n",
        "$$cov(MX) = Mcov(X)M^T$$\n",
        "This property can be proven by expanding the definition of covariance matrix $cov(WX) = E[(W(X - \\mu))(W(X - \\mu))^T]$.\n",
        "\n",
        "Hence for a whitening transform $W$ we have:\n",
        "$$cov(WX) = I \\\\\n",
        "W\\Sigma W^T = I \\\\\n",
        "W^T = \\Sigma^{-1}W^{-1} \\\\\n",
        "W^TW = \\Sigma^{-1}$$\n",
        "\n",
        "Whitening transforms are not unique. For a given covariance matrix there are multiple matrices $W$ that satisfy the properties of a whitening transform."
      ]
    },
    {
      "cell_type": "markdown",
      "id": "d2b4854d",
      "metadata": {
        "id": "d2b4854d"
      },
      "source": [
        "### Square root of covariance\n",
        "One of the whitening transforms is the square root of covariance:\n",
        "$$W = \\Sigma^{-\\frac{1}{2}}$$"
      ]
    },
    {
      "cell_type": "code",
      "execution_count": null,
      "id": "2c907528",
      "metadata": {
        "id": "2c907528",
        "outputId": "97f64d03-4ab2-4a0b-d6e7-2b465f6906e6"
      },
      "outputs": [
        {
          "name": "stdout",
          "output_type": "stream",
          "text": [
            "[[1.67538796 2.23099082]\n",
            " [2.23099082 4.33442189]]\n",
            "[[1.67538796 2.23099082]\n",
            " [2.23099082 4.33442189]]\n",
            "Covariance of whitened samples:\n",
            "[[ 1.01038715 -0.0031279 ]\n",
            " [-0.0031279   1.00420728]]\n",
            "[1.01169397 1.00290046]\n",
            "[[ 0.92270693  0.38550217]\n",
            " [-0.38550217  0.92270693]]\n",
            "[[ 0.93349704  0.38662031]\n",
            " [-0.39001023  0.9253832 ]]\n"
          ]
        },
        {
          "data": {
            "image/png": "[encoded data removed]",
            "text/plain": [
              "<Figure size 432x288 with 1 Axes>"
            ]
          },
          "metadata": {
            "needs_background": "light"
          },
          "output_type": "display_data"
        }
      ],
      "source": [
        "cov_inv = np.linalg.inv(cov)\n",
        "W = sqrtm(cov_inv)\n",
        "samples_whitened = W.dot(samples)\n",
        "\n",
        "print(cov_inv)\n",
        "print(W.transpose().dot(W))\n",
        "\n",
        "print(\"Covariance of whitened samples:\")\n",
        "print(np.cov(samples_whitened))\n",
        "\n",
        "# Plot scatter plot of whitened data\n",
        "plot_samples(samples_whitened)"
      ]
    }
  ],
  "metadata": {
    "kernelspec": {
      "display_name": "Python 3",
      "language": "python",
      "name": "python3"
    },
    "language_info": {
      "codemirror_mode": {
        "name": "ipython",
        "version": 3
      },
      "file_extension": ".py",
      "mimetype": "text/x-python",
      "name": "python",
      "nbconvert_exporter": "python",
      "pygments_lexer": "ipython3",
      "version": "3.6.8"
    },
    "colab": {
      "provenance": [],
      "include_colab_link": true
    }
  },
  "nbformat": 4,
  "nbformat_minor": 5
}