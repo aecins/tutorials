{
  "nbformat": 4,
  "nbformat_minor": 0,
  "metadata": {
    "colab": {
      "provenance": [],
      "authorship_tag": "ABX9TyPq7GEr2zMS7F19esDuMZ7K",
      "include_colab_link": true
    },
    "kernelspec": {
      "name": "python3",
      "display_name": "Python 3"
    },
    "language_info": {
      "name": "python"
    }
  },
  "cells": [
    {
      "cell_type": "markdown",
      "metadata": {
        "id": "view-in-github",
        "colab_type": "text"
      },
      "source": [
        "<a href=\"https://colab.research.google.com/github/aecins/tutorials/blob/main/least_squares/covariance_of_linearly_transformed_random_variable.ipynb\" target=\"_parent\"><img src=\"https://colab.research.google.com/assets/colab-badge.svg\" alt=\"Open In Colab\"/></a>"
      ]
    },
    {
      "cell_type": "markdown",
      "source": [
        "# Covariance of a random variable transformed by a linear transform\n",
        "Consider a random variable $\\mathbf{x}$ with covariance matrix $cov(\\mathbf{x}) = \\Sigma$. Now consider a new random variable $\\mathbf{y} = M\\mathbf{x}$ that is obtained by applying a fixed linear transformation $M$ to $\\mathbf{x}$. The covariance of $\\mathbf{y}$ is:\n",
        "$$\n",
        "\\begin{aligned}\n",
        "cov(\\mathbf{y}) &= cov(M\\mathbf{x}) \\\\\n",
        "                &= M cov(\\mathbf{x}) M^T \\\\\n",
        "                &= M \\Sigma M^T\n",
        "\\end{aligned}\n",
        "$$\n",
        "\n",
        "This property can be derived by expanding the definition of the covariance matrix:\n",
        "$$\n",
        "\\begin{aligned}\n",
        "cov(M\\mathbf{x})\n",
        "&= 𝔼[(M\\mathbf{x} - 𝔼[M\\mathbf{x}])(M\\mathbf{x} - 𝔼[M\\mathbf{x}])^T] \\\\\n",
        "&= 𝔼[(M\\mathbf{x} - M𝔼[\\mathbf{x}])(M\\mathbf{x} - M𝔼[\\mathbf{x}])^T] \\\\\n",
        "&= 𝔼[M(\\mathbf{x} - \\mu_{\\mathbf{x}})(M(\\mathbf{x} - \\mu_{\\mathbf{x}}))^T] \\\\\n",
        "&= 𝔼[M(\\mathbf{x} - \\mu_{\\mathbf{x}})(\\mathbf{x} - \\mu_{\\mathbf{x}})^TM^T] \\\\\n",
        "&= M𝔼[(\\mathbf{x} - \\mu_{\\mathbf{x}})(\\mathbf{x} - \\mu_{\\mathbf{x}})^T]M^T \\\\\n",
        "&= Mcov(\\mathbf{x})M^T \\\\\n",
        "&= M \\Sigma M^T\n",
        "\\end{aligned}\n",
        "$$"
      ],
      "metadata": {
        "id": "P8VjcIDW8r40"
      }
    }
  ]
}
