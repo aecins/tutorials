{
  "nbformat": 4,
  "nbformat_minor": 0,
  "metadata": {
    "colab": {
      "provenance": [],
      "authorship_tag": "ABX9TyPBaCiPG7/3JbPelrWMc7So",
      "include_colab_link": true
    },
    "kernelspec": {
      "name": "python3",
      "display_name": "Python 3"
    },
    "language_info": {
      "name": "python"
    }
  },
  "cells": [
    {
      "cell_type": "markdown",
      "metadata": {
        "id": "view-in-github",
        "colab_type": "text"
      },
      "source": [
        "<a href=\"https://colab.research.google.com/github/aecins/tutorials/blob/main/ml/mnist_classification.ipynb\" target=\"_parent\"><img src=\"https://colab.research.google.com/assets/colab-badge.svg\" alt=\"Open In Colab\"/></a>"
      ]
    },
    {
      "cell_type": "code",
      "execution_count": 1,
      "metadata": {
        "id": "lJ-sSmfWqpKy"
      },
      "outputs": [],
      "source": [
        "import torch\n",
        "import torchvision\n",
        "import plotly.express as px\n",
        "from torch import nn\n",
        "from tqdm import tqdm"
      ]
    },
    {
      "cell_type": "code",
      "source": [
        "import os\n",
        "\n",
        "NUM_CPU_CORES = os.cpu_count()\n",
        "print(f\"Number of available CPU cores: {NUM_CPU_CORES}\")\n",
        "\n",
        "device = torch.device(\"cuda\") if torch.cuda.is_available() else torch.device(\"cpu\")\n",
        "print(f\"Device: {device}\")\n"
      ],
      "metadata": {
        "colab": {
          "base_uri": "https://localhost:8080/"
        },
        "id": "ZJFH5mgNvcmj",
        "outputId": "4ef7460b-c27f-4f80-9370-54678cb2b23c"
      },
      "execution_count": 2,
      "outputs": [
        {
          "output_type": "stream",
          "name": "stdout",
          "text": [
            "Number of available CPU cores: 2\n",
            "Device: cpu\n"
          ]
        }
      ]
    },
    {
      "cell_type": "code",
      "source": [
        "# Create datasets\n",
        "dataset_train = torchvision.datasets.MNIST(\n",
        "    root = './data',\n",
        "    train = True,\n",
        "    transform = torchvision.transforms.ToTensor(),\n",
        "    download = True,\n",
        ")\n",
        "\n",
        "dataset_test = torchvision.datasets.MNIST(\n",
        "    root = './data',\n",
        "    transform = torchvision.transforms.ToTensor(),\n",
        "    train = False,\n",
        ")\n",
        "\n",
        "print(\"\\n\")\n",
        "print(f\"Train dataset size: {len(dataset_train)}\")\n",
        "print(f\"Test dataset size: {len(dataset_test)}\")"
      ],
      "metadata": {
        "colab": {
          "base_uri": "https://localhost:8080/"
        },
        "id": "9atnf_D5rMU-",
        "outputId": "cd7b2b9e-14e0-4e29-8a0c-75f1d4597ff3"
      },
      "execution_count": 3,
      "outputs": [
        {
          "output_type": "stream",
          "name": "stderr",
          "text": [
            "100%|██████████| 9.91M/9.91M [00:00<00:00, 18.1MB/s]\n",
            "100%|██████████| 28.9k/28.9k [00:00<00:00, 508kB/s]\n",
            "100%|██████████| 1.65M/1.65M [00:00<00:00, 4.60MB/s]\n",
            "100%|██████████| 4.54k/4.54k [00:00<00:00, 5.76MB/s]"
          ]
        },
        {
          "output_type": "stream",
          "name": "stdout",
          "text": [
            "\n",
            "\n",
            "Train dataset size: 60000\n",
            "Test dataset size: 10000\n"
          ]
        },
        {
          "output_type": "stream",
          "name": "stderr",
          "text": [
            "\n"
          ]
        }
      ]
    },
    {
      "cell_type": "code",
      "source": [
        "image, label = dataset_train[213]\n",
        "fig = px.imshow(image.squeeze())\n",
        "fig.show()\n",
        "print(f\"Label: {label}\")\n",
        "print(f\"Image size: {image.shape}\")\n",
        "print(f\"Image type: {image.type()}\")"
      ],
      "metadata": {
        "colab": {
          "base_uri": "https://localhost:8080/",
          "height": 594
        },
        "id": "Gaix6yFdsaa1",
        "outputId": "c06cc0f6-3ef0-46f6-da7f-e220d50a64ce"
      },
      "execution_count": 4,
      "outputs": [
        {
          "output_type": "display_data",
          "data": {
            "text/html": [
              "<html>\n",
              "<head><meta charset=\"utf-8\" /></head>\n",
              "<body>\n",
              "    <div>            <script src=\"https://cdnjs.cloudflare.com/ajax/libs/mathjax/2.7.5/MathJax.js?config=TeX-AMS-MML_SVG\"></script><script type=\"text/javascript\">if (window.MathJax && window.MathJax.Hub && window.MathJax.Hub.Config) {window.MathJax.Hub.Config({SVG: {font: \"STIX-Web\"}});}</script>                <script type=\"text/javascript\">window.PlotlyConfig = {MathJaxConfig: 'local'};</script>\n",
              "        <script charset=\"utf-8\" src=\"https://cdn.plot.ly/plotly-2.35.2.min.js\"></script>                <div id=\"069b5877-410c-4eb1-a0dd-a96f952396ea\" class=\"plotly-graph-div\" style=\"height:525px; width:100%;\"></div>            <script type=\"text/javascript\">                                    window.PLOTLYENV=window.PLOTLYENV || {};                                    if (document.getElementById(\"069b5877-410c-4eb1-a0dd-a96f952396ea\")) {                    Plotly.newPlot(                        \"069b5877-410c-4eb1-a0dd-a96f952396ea\",                        [{\"coloraxis\":\"coloraxis\",\"name\":\"0\",\"z\":[[0.0,0.0,0.0,0.0,0.0,0.0,0.0,0.0,0.0,0.0,0.0,0.0,0.0,0.0,0.0,0.0,0.0,0.0,0.0,0.0,0.0,0.0,0.0,0.0,0.0,0.0,0.0,0.0],[0.0,0.0,0.0,0.0,0.0,0.0,0.0,0.0,0.0,0.0,0.0,0.0,0.0,0.0,0.0,0.0,0.0,0.0,0.0,0.0,0.0,0.0,0.0,0.0,0.0,0.0,0.0,0.0],[0.0,0.0,0.0,0.0,0.0,0.0,0.0,0.0,0.0,0.0,0.0,0.0,0.0,0.0,0.0,0.0,0.0,0.0,0.0,0.0,0.0,0.0,0.0,0.0,0.0,0.0,0.0,0.0],[0.0,0.0,0.0,0.0,0.0,0.0,0.0,0.0,0.0,0.0,0.0,0.0,0.0,0.23529412,0.60784316,0.99215686,0.99215686,0.99215686,0.37254903,0.0,0.0,0.0,0.0,0.0,0.0,0.0,0.0,0.0],[0.0,0.0,0.0,0.0,0.0,0.0,0.0,0.0,0.0,0.0,0.0,0.0627451,0.28235295,0.89411765,0.99215686,0.9843137,0.9843137,0.9843137,0.83137256,0.5137255,0.03137255,0.0,0.0,0.0,0.0,0.0,0.0,0.0],[0.0,0.0,0.0,0.0,0.0,0.0,0.0,0.0,0.0,0.0,0.0627451,0.7411765,0.9843137,0.9843137,0.99215686,0.9843137,0.9843137,0.9843137,0.9843137,0.99215686,0.24313726,0.0,0.0,0.0,0.0,0.0,0.0,0.0],[0.0,0.0,0.0,0.0,0.0,0.0,0.0,0.0,0.0,0.0,0.67058825,0.9843137,0.9843137,0.827451,0.7411765,0.27058825,0.43137255,0.95686275,0.9843137,0.99215686,0.24313726,0.0,0.0,0.0,0.0,0.0,0.0,0.0],[0.0,0.0,0.0,0.0,0.0,0.0,0.0,0.0,0.0,0.0,0.74509805,0.9843137,0.827451,0.13725491,0.0,0.0,0.0,0.8666667,0.9843137,0.99215686,0.24313726,0.0,0.0,0.0,0.0,0.0,0.0,0.0],[0.0,0.0,0.0,0.0,0.0,0.0,0.0,0.0,0.0,0.0,0.47058824,0.61960787,0.46666667,0.0,0.0,0.0,0.0,0.8745098,0.99215686,1.0,0.24705882,0.0,0.0,0.0,0.0,0.0,0.0,0.0],[0.0,0.0,0.0,0.0,0.0,0.0,0.0,0.0,0.0,0.0,0.0,0.0,0.0,0.0,0.0,0.0,0.3764706,0.95686275,0.9843137,0.99215686,0.24313726,0.0,0.0,0.0,0.0,0.0,0.0,0.0],[0.0,0.0,0.0,0.0,0.0,0.0,0.0,0.0,0.0,0.0,0.0,0.0,0.0,0.0,0.0,0.0,0.49803922,0.9843137,0.9843137,0.99215686,0.24313726,0.0,0.0,0.0,0.0,0.0,0.0,0.0],[0.0,0.0,0.0,0.0,0.0,0.0,0.0,0.0,0.0,0.0,0.0,0.0,0.0,0.0,0.0,0.0,0.49803922,0.9843137,0.9843137,0.6627451,0.03137255,0.0,0.0,0.0,0.0,0.0,0.0,0.0],[0.0,0.0,0.0,0.0,0.0,0.0,0.0,0.0,0.0,0.0,0.0,0.0,0.0,0.0,0.0,0.078431375,0.8039216,0.9843137,0.9843137,0.23137255,0.0,0.0,0.0,0.0,0.0,0.0,0.0,0.0],[0.0,0.0,0.0,0.0,0.0,0.0,0.0,0.0,0.0,0.23529412,0.0,0.0,0.0,0.0,0.3764706,0.99215686,0.99215686,0.99215686,0.75686276,0.0,0.0,0.0,0.0,0.0,0.0,0.0,0.0,0.0],[0.0,0.0,0.0,0.0,0.0,0.0,0.0627451,0.67058825,0.74509805,0.9019608,0.74509805,0.74509805,0.5882353,0.1254902,0.4509804,0.9843137,0.9843137,0.9843137,0.36862746,0.0,0.0,0.0,0.0,0.0,0.0,0.0,0.0,0.0],[0.0,0.0,0.0,0.0,0.0,0.0,0.49803922,0.9843137,0.9843137,0.99215686,0.9843137,0.9843137,0.9843137,0.9843137,0.99215686,0.9843137,0.9843137,0.9843137,0.36862746,0.0,0.0,0.0,0.0,0.0,0.0,0.0,0.0,0.0],[0.0,0.0,0.0,0.0,0.0,0.654902,0.9254902,0.92156863,0.7372549,0.7411765,0.7372549,0.8627451,0.9843137,0.9843137,0.99215686,0.9843137,0.9843137,0.9843137,0.52156866,0.0,0.0,0.0,0.0,0.0,0.0,0.0,0.0,0.0],[0.0,0.0,0.0,0.0,0.0,0.74509805,0.9843137,0.7372549,0.0,0.0,0.0,0.49803922,0.9843137,0.9843137,0.99215686,0.9843137,0.9843137,0.9843137,0.9843137,0.62352943,0.15294118,0.0,0.0,0.0,0.0,0.0,0.0,0.0],[0.0,0.0,0.0,0.0,0.23529412,0.9019608,0.99215686,0.8352941,0.7607843,1.0,0.99215686,0.99215686,0.99215686,0.99215686,1.0,0.99215686,0.99215686,0.99215686,0.99215686,1.0,0.9137255,0.3764706,0.047058824,0.0,0.0,0.0,0.0,0.0],[0.0,0.0,0.0,0.0,0.0,0.74509805,0.9843137,0.9843137,0.9843137,0.99215686,0.9843137,0.9843137,0.9843137,0.90588236,0.6313726,0.24313726,0.5529412,0.89411765,0.9843137,0.99215686,0.9843137,0.9843137,0.6156863,0.047058824,0.0,0.0,0.0,0.0],[0.0,0.0,0.0,0.0,0.0,0.43529412,0.9843137,0.9843137,0.9843137,0.99215686,0.9843137,0.9843137,0.85882354,0.18431373,0.0,0.0,0.0,0.1254902,0.8,0.99215686,0.9843137,0.9843137,0.9843137,0.36862746,0.0,0.0,0.0,0.0],[0.0,0.0,0.0,0.0,0.0,0.015686275,0.43137255,0.7372549,0.7372549,0.7411765,0.65882355,0.12156863,0.09019608,0.0,0.0,0.0,0.0,0.0,0.07450981,0.35686275,0.9254902,0.9843137,0.9843137,0.36862746,0.0,0.0,0.0,0.0],[0.0,0.0,0.0,0.0,0.0,0.0,0.0,0.0,0.0,0.0,0.0,0.0,0.0,0.0,0.0,0.0,0.0,0.0,0.0,0.0,0.35686275,0.9843137,0.827451,0.13725491,0.0,0.0,0.0,0.0],[0.0,0.0,0.0,0.0,0.0,0.0,0.0,0.0,0.0,0.0,0.0,0.0,0.0,0.0,0.0,0.0,0.0,0.0,0.0,0.0,0.0,0.0,0.0,0.0,0.0,0.0,0.0,0.0],[0.0,0.0,0.0,0.0,0.0,0.0,0.0,0.0,0.0,0.0,0.0,0.0,0.0,0.0,0.0,0.0,0.0,0.0,0.0,0.0,0.0,0.0,0.0,0.0,0.0,0.0,0.0,0.0],[0.0,0.0,0.0,0.0,0.0,0.0,0.0,0.0,0.0,0.0,0.0,0.0,0.0,0.0,0.0,0.0,0.0,0.0,0.0,0.0,0.0,0.0,0.0,0.0,0.0,0.0,0.0,0.0],[0.0,0.0,0.0,0.0,0.0,0.0,0.0,0.0,0.0,0.0,0.0,0.0,0.0,0.0,0.0,0.0,0.0,0.0,0.0,0.0,0.0,0.0,0.0,0.0,0.0,0.0,0.0,0.0],[0.0,0.0,0.0,0.0,0.0,0.0,0.0,0.0,0.0,0.0,0.0,0.0,0.0,0.0,0.0,0.0,0.0,0.0,0.0,0.0,0.0,0.0,0.0,0.0,0.0,0.0,0.0,0.0]],\"type\":\"heatmap\",\"xaxis\":\"x\",\"yaxis\":\"y\",\"hovertemplate\":\"x: %{x}\\u003cbr\\u003ey: %{y}\\u003cbr\\u003ecolor: %{z}\\u003cextra\\u003e\\u003c\\u002fextra\\u003e\"}],                        {\"template\":{\"data\":{\"histogram2dcontour\":[{\"type\":\"histogram2dcontour\",\"colorbar\":{\"outlinewidth\":0,\"ticks\":\"\"},\"colorscale\":[[0.0,\"#0d0887\"],[0.1111111111111111,\"#46039f\"],[0.2222222222222222,\"#7201a8\"],[0.3333333333333333,\"#9c179e\"],[0.4444444444444444,\"#bd3786\"],[0.5555555555555556,\"#d8576b\"],[0.6666666666666666,\"#ed7953\"],[0.7777777777777778,\"#fb9f3a\"],[0.8888888888888888,\"#fdca26\"],[1.0,\"#f0f921\"]]}],\"choropleth\":[{\"type\":\"choropleth\",\"colorbar\":{\"outlinewidth\":0,\"ticks\":\"\"}}],\"histogram2d\":[{\"type\":\"histogram2d\",\"colorbar\":{\"outlinewidth\":0,\"ticks\":\"\"},\"colorscale\":[[0.0,\"#0d0887\"],[0.1111111111111111,\"#46039f\"],[0.2222222222222222,\"#7201a8\"],[0.3333333333333333,\"#9c179e\"],[0.4444444444444444,\"#bd3786\"],[0.5555555555555556,\"#d8576b\"],[0.6666666666666666,\"#ed7953\"],[0.7777777777777778,\"#fb9f3a\"],[0.8888888888888888,\"#fdca26\"],[1.0,\"#f0f921\"]]}],\"heatmap\":[{\"type\":\"heatmap\",\"colorbar\":{\"outlinewidth\":0,\"ticks\":\"\"},\"colorscale\":[[0.0,\"#0d0887\"],[0.1111111111111111,\"#46039f\"],[0.2222222222222222,\"#7201a8\"],[0.3333333333333333,\"#9c179e\"],[0.4444444444444444,\"#bd3786\"],[0.5555555555555556,\"#d8576b\"],[0.6666666666666666,\"#ed7953\"],[0.7777777777777778,\"#fb9f3a\"],[0.8888888888888888,\"#fdca26\"],[1.0,\"#f0f921\"]]}],\"heatmapgl\":[{\"type\":\"heatmapgl\",\"colorbar\":{\"outlinewidth\":0,\"ticks\":\"\"},\"colorscale\":[[0.0,\"#0d0887\"],[0.1111111111111111,\"#46039f\"],[0.2222222222222222,\"#7201a8\"],[0.3333333333333333,\"#9c179e\"],[0.4444444444444444,\"#bd3786\"],[0.5555555555555556,\"#d8576b\"],[0.6666666666666666,\"#ed7953\"],[0.7777777777777778,\"#fb9f3a\"],[0.8888888888888888,\"#fdca26\"],[1.0,\"#f0f921\"]]}],\"contourcarpet\":[{\"type\":\"contourcarpet\",\"colorbar\":{\"outlinewidth\":0,\"ticks\":\"\"}}],\"contour\":[{\"type\":\"contour\",\"colorbar\":{\"outlinewidth\":0,\"ticks\":\"\"},\"colorscale\":[[0.0,\"#0d0887\"],[0.1111111111111111,\"#46039f\"],[0.2222222222222222,\"#7201a8\"],[0.3333333333333333,\"#9c179e\"],[0.4444444444444444,\"#bd3786\"],[0.5555555555555556,\"#d8576b\"],[0.6666666666666666,\"#ed7953\"],[0.7777777777777778,\"#fb9f3a\"],[0.8888888888888888,\"#fdca26\"],[1.0,\"#f0f921\"]]}],\"surface\":[{\"type\":\"surface\",\"colorbar\":{\"outlinewidth\":0,\"ticks\":\"\"},\"colorscale\":[[0.0,\"#0d0887\"],[0.1111111111111111,\"#46039f\"],[0.2222222222222222,\"#7201a8\"],[0.3333333333333333,\"#9c179e\"],[0.4444444444444444,\"#bd3786\"],[0.5555555555555556,\"#d8576b\"],[0.6666666666666666,\"#ed7953\"],[0.7777777777777778,\"#fb9f3a\"],[0.8888888888888888,\"#fdca26\"],[1.0,\"#f0f921\"]]}],\"mesh3d\":[{\"type\":\"mesh3d\",\"colorbar\":{\"outlinewidth\":0,\"ticks\":\"\"}}],\"scatter\":[{\"fillpattern\":{\"fillmode\":\"overlay\",\"size\":10,\"solidity\":0.2},\"type\":\"scatter\"}],\"parcoords\":[{\"type\":\"parcoords\",\"line\":{\"colorbar\":{\"outlinewidth\":0,\"ticks\":\"\"}}}],\"scatterpolargl\":[{\"type\":\"scatterpolargl\",\"marker\":{\"colorbar\":{\"outlinewidth\":0,\"ticks\":\"\"}}}],\"bar\":[{\"error_x\":{\"color\":\"#2a3f5f\"},\"error_y\":{\"color\":\"#2a3f5f\"},\"marker\":{\"line\":{\"color\":\"#E5ECF6\",\"width\":0.5},\"pattern\":{\"fillmode\":\"overlay\",\"size\":10,\"solidity\":0.2}},\"type\":\"bar\"}],\"scattergeo\":[{\"type\":\"scattergeo\",\"marker\":{\"colorbar\":{\"outlinewidth\":0,\"ticks\":\"\"}}}],\"scatterpolar\":[{\"type\":\"scatterpolar\",\"marker\":{\"colorbar\":{\"outlinewidth\":0,\"ticks\":\"\"}}}],\"histogram\":[{\"marker\":{\"pattern\":{\"fillmode\":\"overlay\",\"size\":10,\"solidity\":0.2}},\"type\":\"histogram\"}],\"scattergl\":[{\"type\":\"scattergl\",\"marker\":{\"colorbar\":{\"outlinewidth\":0,\"ticks\":\"\"}}}],\"scatter3d\":[{\"type\":\"scatter3d\",\"line\":{\"colorbar\":{\"outlinewidth\":0,\"ticks\":\"\"}},\"marker\":{\"colorbar\":{\"outlinewidth\":0,\"ticks\":\"\"}}}],\"scattermapbox\":[{\"type\":\"scattermapbox\",\"marker\":{\"colorbar\":{\"outlinewidth\":0,\"ticks\":\"\"}}}],\"scatterternary\":[{\"type\":\"scatterternary\",\"marker\":{\"colorbar\":{\"outlinewidth\":0,\"ticks\":\"\"}}}],\"scattercarpet\":[{\"type\":\"scattercarpet\",\"marker\":{\"colorbar\":{\"outlinewidth\":0,\"ticks\":\"\"}}}],\"carpet\":[{\"aaxis\":{\"endlinecolor\":\"#2a3f5f\",\"gridcolor\":\"white\",\"linecolor\":\"white\",\"minorgridcolor\":\"white\",\"startlinecolor\":\"#2a3f5f\"},\"baxis\":{\"endlinecolor\":\"#2a3f5f\",\"gridcolor\":\"white\",\"linecolor\":\"white\",\"minorgridcolor\":\"white\",\"startlinecolor\":\"#2a3f5f\"},\"type\":\"carpet\"}],\"table\":[{\"cells\":{\"fill\":{\"color\":\"#EBF0F8\"},\"line\":{\"color\":\"white\"}},\"header\":{\"fill\":{\"color\":\"#C8D4E3\"},\"line\":{\"color\":\"white\"}},\"type\":\"table\"}],\"barpolar\":[{\"marker\":{\"line\":{\"color\":\"#E5ECF6\",\"width\":0.5},\"pattern\":{\"fillmode\":\"overlay\",\"size\":10,\"solidity\":0.2}},\"type\":\"barpolar\"}],\"pie\":[{\"automargin\":true,\"type\":\"pie\"}]},\"layout\":{\"autotypenumbers\":\"strict\",\"colorway\":[\"#636efa\",\"#EF553B\",\"#00cc96\",\"#ab63fa\",\"#FFA15A\",\"#19d3f3\",\"#FF6692\",\"#B6E880\",\"#FF97FF\",\"#FECB52\"],\"font\":{\"color\":\"#2a3f5f\"},\"hovermode\":\"closest\",\"hoverlabel\":{\"align\":\"left\"},\"paper_bgcolor\":\"white\",\"plot_bgcolor\":\"#E5ECF6\",\"polar\":{\"bgcolor\":\"#E5ECF6\",\"angularaxis\":{\"gridcolor\":\"white\",\"linecolor\":\"white\",\"ticks\":\"\"},\"radialaxis\":{\"gridcolor\":\"white\",\"linecolor\":\"white\",\"ticks\":\"\"}},\"ternary\":{\"bgcolor\":\"#E5ECF6\",\"aaxis\":{\"gridcolor\":\"white\",\"linecolor\":\"white\",\"ticks\":\"\"},\"baxis\":{\"gridcolor\":\"white\",\"linecolor\":\"white\",\"ticks\":\"\"},\"caxis\":{\"gridcolor\":\"white\",\"linecolor\":\"white\",\"ticks\":\"\"}},\"coloraxis\":{\"colorbar\":{\"outlinewidth\":0,\"ticks\":\"\"}},\"colorscale\":{\"sequential\":[[0.0,\"#0d0887\"],[0.1111111111111111,\"#46039f\"],[0.2222222222222222,\"#7201a8\"],[0.3333333333333333,\"#9c179e\"],[0.4444444444444444,\"#bd3786\"],[0.5555555555555556,\"#d8576b\"],[0.6666666666666666,\"#ed7953\"],[0.7777777777777778,\"#fb9f3a\"],[0.8888888888888888,\"#fdca26\"],[1.0,\"#f0f921\"]],\"sequentialminus\":[[0.0,\"#0d0887\"],[0.1111111111111111,\"#46039f\"],[0.2222222222222222,\"#7201a8\"],[0.3333333333333333,\"#9c179e\"],[0.4444444444444444,\"#bd3786\"],[0.5555555555555556,\"#d8576b\"],[0.6666666666666666,\"#ed7953\"],[0.7777777777777778,\"#fb9f3a\"],[0.8888888888888888,\"#fdca26\"],[1.0,\"#f0f921\"]],\"diverging\":[[0,\"#8e0152\"],[0.1,\"#c51b7d\"],[0.2,\"#de77ae\"],[0.3,\"#f1b6da\"],[0.4,\"#fde0ef\"],[0.5,\"#f7f7f7\"],[0.6,\"#e6f5d0\"],[0.7,\"#b8e186\"],[0.8,\"#7fbc41\"],[0.9,\"#4d9221\"],[1,\"#276419\"]]},\"xaxis\":{\"gridcolor\":\"white\",\"linecolor\":\"white\",\"ticks\":\"\",\"title\":{\"standoff\":15},\"zerolinecolor\":\"white\",\"automargin\":true,\"zerolinewidth\":2},\"yaxis\":{\"gridcolor\":\"white\",\"linecolor\":\"white\",\"ticks\":\"\",\"title\":{\"standoff\":15},\"zerolinecolor\":\"white\",\"automargin\":true,\"zerolinewidth\":2},\"scene\":{\"xaxis\":{\"backgroundcolor\":\"#E5ECF6\",\"gridcolor\":\"white\",\"linecolor\":\"white\",\"showbackground\":true,\"ticks\":\"\",\"zerolinecolor\":\"white\",\"gridwidth\":2},\"yaxis\":{\"backgroundcolor\":\"#E5ECF6\",\"gridcolor\":\"white\",\"linecolor\":\"white\",\"showbackground\":true,\"ticks\":\"\",\"zerolinecolor\":\"white\",\"gridwidth\":2},\"zaxis\":{\"backgroundcolor\":\"#E5ECF6\",\"gridcolor\":\"white\",\"linecolor\":\"white\",\"showbackground\":true,\"ticks\":\"\",\"zerolinecolor\":\"white\",\"gridwidth\":2}},\"shapedefaults\":{\"line\":{\"color\":\"#2a3f5f\"}},\"annotationdefaults\":{\"arrowcolor\":\"#2a3f5f\",\"arrowhead\":0,\"arrowwidth\":1},\"geo\":{\"bgcolor\":\"white\",\"landcolor\":\"#E5ECF6\",\"subunitcolor\":\"white\",\"showland\":true,\"showlakes\":true,\"lakecolor\":\"white\"},\"title\":{\"x\":0.05},\"mapbox\":{\"style\":\"light\"}}},\"xaxis\":{\"anchor\":\"y\",\"domain\":[0.0,1.0],\"scaleanchor\":\"y\",\"constrain\":\"domain\"},\"yaxis\":{\"anchor\":\"x\",\"domain\":[0.0,1.0],\"autorange\":\"reversed\",\"constrain\":\"domain\"},\"coloraxis\":{\"colorscale\":[[0.0,\"#0d0887\"],[0.1111111111111111,\"#46039f\"],[0.2222222222222222,\"#7201a8\"],[0.3333333333333333,\"#9c179e\"],[0.4444444444444444,\"#bd3786\"],[0.5555555555555556,\"#d8576b\"],[0.6666666666666666,\"#ed7953\"],[0.7777777777777778,\"#fb9f3a\"],[0.8888888888888888,\"#fdca26\"],[1.0,\"#f0f921\"]]},\"margin\":{\"t\":60}},                        {\"responsive\": true}                    ).then(function(){\n",
              "                            \n",
              "var gd = document.getElementById('069b5877-410c-4eb1-a0dd-a96f952396ea');\n",
              "var x = new MutationObserver(function (mutations, observer) {{\n",
              "        var display = window.getComputedStyle(gd).display;\n",
              "        if (!display || display === 'none') {{\n",
              "            console.log([gd, 'removed!']);\n",
              "            Plotly.purge(gd);\n",
              "            observer.disconnect();\n",
              "        }}\n",
              "}});\n",
              "\n",
              "// Listen for the removal of the full notebook cells\n",
              "var notebookContainer = gd.closest('#notebook-container');\n",
              "if (notebookContainer) {{\n",
              "    x.observe(notebookContainer, {childList: true});\n",
              "}}\n",
              "\n",
              "// Listen for the clearing of the current output cell\n",
              "var outputEl = gd.closest('.output');\n",
              "if (outputEl) {{\n",
              "    x.observe(outputEl, {childList: true});\n",
              "}}\n",
              "\n",
              "                        })                };                            </script>        </div>\n",
              "</body>\n",
              "</html>"
            ]
          },
          "metadata": {}
        },
        {
          "output_type": "stream",
          "name": "stdout",
          "text": [
            "Label: 2\n",
            "Image size: torch.Size([1, 28, 28])\n",
            "Image type: torch.FloatTensor\n"
          ]
        }
      ]
    },
    {
      "cell_type": "code",
      "source": [
        "BATCH_SIZE = 100\n",
        "\n",
        "# Create dataloaders\n",
        "dataloader_train = torch.utils.data.DataLoader(\n",
        "    dataset=dataset_train,\n",
        "    batch_size=BATCH_SIZE,\n",
        "    num_workers=NUM_CPU_CORES,\n",
        "    shuffle=True,\n",
        "    drop_last=True,\n",
        "    pin_memory=True if device == torch.device(\"cuda\") else False,\n",
        ")\n",
        "\n",
        "dataloader_test = torch.utils.data.DataLoader(\n",
        "    dataset=dataset_test,\n",
        "    batch_size=BATCH_SIZE,\n",
        "    num_workers=NUM_CPU_CORES,\n",
        "    shuffle=False,\n",
        "    drop_last=True,\n",
        "    pin_memory=True if device == torch.device(\"cuda\") else False,\n",
        ")"
      ],
      "metadata": {
        "id": "YKeZnrdxswFk"
      },
      "execution_count": 5,
      "outputs": []
    },
    {
      "cell_type": "code",
      "source": [
        "images_batch, labels_batch = next(iter(dataloader_train))\n",
        "print(f\"Batch size: {images_batch.shape[0]}\")\n",
        "print(f\"Batch image tensor size: {images_batch.shape}\")\n",
        "print(f\"Batch label tensor size: {labels_batch.shape}\")"
      ],
      "metadata": {
        "colab": {
          "base_uri": "https://localhost:8080/"
        },
        "id": "_OnAgttUu7RS",
        "outputId": "2c3d7b2e-4cdb-4eee-956e-b461658a9d38"
      },
      "execution_count": 6,
      "outputs": [
        {
          "output_type": "stream",
          "name": "stdout",
          "text": [
            "Batch size: 100\n",
            "Batch image tensor size: torch.Size([100, 1, 28, 28])\n",
            "Batch label tensor size: torch.Size([100])\n"
          ]
        }
      ]
    },
    {
      "cell_type": "code",
      "source": [
        "# Create a classifier network\n",
        "class MnistClassifier(torch.nn.Module):\n",
        "    def __init__(self, input_size, hidden_size, num_classes):\n",
        "        super().__init__()\n",
        "        self.fc1 = nn.Linear(in_features=input_size, out_features=hidden_size, bias=True)\n",
        "        self.relu = nn.ReLU()\n",
        "        self.fc2 = nn.Linear(in_features=hidden_size, out_features=num_classes, bias=True)\n",
        "\n",
        "    def forward(self, x):\n",
        "        # x (batch_size, 1, height, width)\n",
        "        x = x.view(x.size(0), -1)   # (batch_size, height*width)\n",
        "        x = self.fc1(x)             # (batch_size, hidden_size)\n",
        "        x = self.relu(x)            # (batch_size, hidden_size)\n",
        "        x = self.fc2(x)             # (batch_size, 10)\n",
        "\n",
        "        return x\n"
      ],
      "metadata": {
        "id": "hvszs5bFuWA9"
      },
      "execution_count": 7,
      "outputs": []
    },
    {
      "cell_type": "code",
      "source": [
        "model = MnistClassifier(\n",
        "    input_size=28*28,\n",
        "    hidden_size=128,\n",
        "    num_classes=10,\n",
        ").to(device)\n",
        "\n",
        "num_trainable_params = sum(p.numel() for p in model.parameters() if p.requires_grad)\n",
        "print(f\"The model has {num_trainable_params:,} trainable parameters.\")"
      ],
      "metadata": {
        "colab": {
          "base_uri": "https://localhost:8080/"
        },
        "id": "OGhi8iUO4sCR",
        "outputId": "2e833f5b-924f-48e0-b0e8-a9d2b0a0b471"
      },
      "execution_count": 16,
      "outputs": [
        {
          "output_type": "stream",
          "name": "stdout",
          "text": [
            "The model has 101,770 trainable parameters.\n"
          ]
        }
      ]
    },
    {
      "cell_type": "code",
      "source": [
        "# Create loss\n",
        "criterion = nn.CrossEntropyLoss(reduction=\"mean\")"
      ],
      "metadata": {
        "id": "RjU8fTPj41z2"
      },
      "execution_count": 17,
      "outputs": []
    },
    {
      "cell_type": "code",
      "source": [
        "# Create optmizer\n",
        "LEARNING_RATE = 5e-4\n",
        "optimizer = torch.optim.Adam(model.parameters(), lr=LEARNING_RATE)"
      ],
      "metadata": {
        "id": "QwpPJ-0NkK1a"
      },
      "execution_count": 18,
      "outputs": []
    },
    {
      "cell_type": "code",
      "source": [
        "# Create training loop\n",
        "NUM_EPOCHS = 100\n",
        "\n",
        "model.train()\n",
        "\n",
        "for epoch_idx in range(NUM_EPOCHS):\n",
        "  epoch_loss = 0\n",
        "  for batch_idx, (batch_images, batch_labels) in enumerate(dataloader_train):\n",
        "    batch_images = batch_images.to(device)\n",
        "    batch_labels = batch_labels.to(device)\n",
        "\n",
        "    optimizer.zero_grad()\n",
        "\n",
        "    prediction = model(batch_images)\n",
        "    loss = criterion(prediction, batch_labels)\n",
        "\n",
        "    loss.backward()\n",
        "    optimizer.step()\n",
        "\n",
        "    epoch_loss += loss.item() * batch_images.size(0)\n",
        "\n",
        "  epoch_loss /= len(dataloader_train)\n",
        "\n",
        "  print(f\"Epoch: {epoch_idx:>6}, Loss: {epoch_loss:.8f}, lr: {LEARNING_RATE:.8f}\")"
      ],
      "metadata": {
        "colab": {
          "base_uri": "https://localhost:8080/"
        },
        "id": "5-8Tzdk2go4S",
        "outputId": "84d11876-762b-4558-f648-3ae787c1b9ad"
      },
      "execution_count": 19,
      "outputs": [
        {
          "output_type": "stream",
          "name": "stdout",
          "text": [
            "Epoch:      0, Loss: 50.02324101, lr: 0.00050000\n",
            "Epoch:      1, Loss: 23.78081670, lr: 0.00050000\n",
            "Epoch:      2, Loss: 18.44084544, lr: 0.00050000\n",
            "Epoch:      3, Loss: 14.97850780, lr: 0.00050000\n",
            "Epoch:      4, Loss: 12.59596735, lr: 0.00050000\n",
            "Epoch:      5, Loss: 10.75785958, lr: 0.00050000\n",
            "Epoch:      6, Loss: 9.35339700, lr: 0.00050000\n",
            "Epoch:      7, Loss: 8.18273931, lr: 0.00050000\n",
            "Epoch:      8, Loss: 7.21168239, lr: 0.00050000\n",
            "Epoch:      9, Loss: 6.39683364, lr: 0.00050000\n",
            "Epoch:     10, Loss: 5.72481742, lr: 0.00050000\n",
            "Epoch:     11, Loss: 5.09611895, lr: 0.00050000\n",
            "Epoch:     12, Loss: 4.65098176, lr: 0.00050000\n",
            "Epoch:     13, Loss: 4.15809685, lr: 0.00050000\n",
            "Epoch:     14, Loss: 3.74752043, lr: 0.00050000\n",
            "Epoch:     15, Loss: 3.36944968, lr: 0.00050000\n",
            "Epoch:     16, Loss: 3.02251079, lr: 0.00050000\n",
            "Epoch:     17, Loss: 2.75079413, lr: 0.00050000\n",
            "Epoch:     18, Loss: 2.47734538, lr: 0.00050000\n",
            "Epoch:     19, Loss: 2.19151011, lr: 0.00050000\n",
            "Epoch:     20, Loss: 1.98052280, lr: 0.00050000\n",
            "Epoch:     21, Loss: 1.81490623, lr: 0.00050000\n",
            "Epoch:     22, Loss: 1.59237619, lr: 0.00050000\n",
            "Epoch:     23, Loss: 1.42440088, lr: 0.00050000\n",
            "Epoch:     24, Loss: 1.32349331, lr: 0.00050000\n",
            "Epoch:     25, Loss: 1.17905394, lr: 0.00050000\n",
            "Epoch:     26, Loss: 1.02825895, lr: 0.00050000\n",
            "Epoch:     27, Loss: 0.95627613, lr: 0.00050000\n",
            "Epoch:     28, Loss: 0.83929886, lr: 0.00050000\n",
            "Epoch:     29, Loss: 0.75724468, lr: 0.00050000\n",
            "Epoch:     30, Loss: 0.66325244, lr: 0.00050000\n",
            "Epoch:     31, Loss: 0.57093540, lr: 0.00050000\n",
            "Epoch:     32, Loss: 0.58632963, lr: 0.00050000\n",
            "Epoch:     33, Loss: 0.49804986, lr: 0.00050000\n",
            "Epoch:     34, Loss: 0.38991507, lr: 0.00050000\n",
            "Epoch:     35, Loss: 0.38056229, lr: 0.00050000\n",
            "Epoch:     36, Loss: 0.33961423, lr: 0.00050000\n",
            "Epoch:     37, Loss: 0.28445643, lr: 0.00050000\n",
            "Epoch:     38, Loss: 0.26922887, lr: 0.00050000\n",
            "Epoch:     39, Loss: 0.27522883, lr: 0.00050000\n",
            "Epoch:     40, Loss: 0.28539744, lr: 0.00050000\n",
            "Epoch:     41, Loss: 0.21213385, lr: 0.00050000\n",
            "Epoch:     42, Loss: 0.20755407, lr: 0.00050000\n",
            "Epoch:     43, Loss: 0.13302365, lr: 0.00050000\n",
            "Epoch:     44, Loss: 0.14755068, lr: 0.00050000\n",
            "Epoch:     45, Loss: 0.21814474, lr: 0.00050000\n",
            "Epoch:     46, Loss: 0.16013681, lr: 0.00050000\n",
            "Epoch:     47, Loss: 0.08563955, lr: 0.00050000\n",
            "Epoch:     48, Loss: 0.07847592, lr: 0.00050000\n",
            "Epoch:     49, Loss: 0.14187647, lr: 0.00050000\n",
            "Epoch:     50, Loss: 0.26827104, lr: 0.00050000\n",
            "Epoch:     51, Loss: 0.06805677, lr: 0.00050000\n",
            "Epoch:     52, Loss: 0.05239936, lr: 0.00050000\n",
            "Epoch:     53, Loss: 0.04801737, lr: 0.00050000\n",
            "Epoch:     54, Loss: 0.04808513, lr: 0.00050000\n",
            "Epoch:     55, Loss: 0.24548676, lr: 0.00050000\n",
            "Epoch:     56, Loss: 0.13127332, lr: 0.00050000\n",
            "Epoch:     57, Loss: 0.04185379, lr: 0.00050000\n",
            "Epoch:     58, Loss: 0.03360696, lr: 0.00050000\n",
            "Epoch:     59, Loss: 0.03052471, lr: 0.00050000\n",
            "Epoch:     60, Loss: 0.02832999, lr: 0.00050000\n",
            "Epoch:     61, Loss: 0.03102810, lr: 0.00050000\n",
            "Epoch:     62, Loss: 0.30113875, lr: 0.00050000\n",
            "Epoch:     63, Loss: 0.22206201, lr: 0.00050000\n",
            "Epoch:     64, Loss: 0.03385320, lr: 0.00050000\n",
            "Epoch:     65, Loss: 0.02598765, lr: 0.00050000\n",
            "Epoch:     66, Loss: 0.02277938, lr: 0.00050000\n",
            "Epoch:     67, Loss: 0.02048842, lr: 0.00050000\n",
            "Epoch:     68, Loss: 0.01908962, lr: 0.00050000\n",
            "Epoch:     69, Loss: 0.01775819, lr: 0.00050000\n",
            "Epoch:     70, Loss: 0.01709648, lr: 0.00050000\n",
            "Epoch:     71, Loss: 0.31247799, lr: 0.00050000\n",
            "Epoch:     72, Loss: 0.15859252, lr: 0.00050000\n",
            "Epoch:     73, Loss: 0.02429600, lr: 0.00050000\n",
            "Epoch:     74, Loss: 0.01735056, lr: 0.00050000\n",
            "Epoch:     75, Loss: 0.01512774, lr: 0.00050000\n",
            "Epoch:     76, Loss: 0.01376526, lr: 0.00050000\n",
            "Epoch:     77, Loss: 0.01249007, lr: 0.00050000\n",
            "Epoch:     78, Loss: 0.01171949, lr: 0.00050000\n",
            "Epoch:     79, Loss: 0.01133139, lr: 0.00050000\n",
            "Epoch:     80, Loss: 0.01187867, lr: 0.00050000\n",
            "Epoch:     81, Loss: 0.01000549, lr: 0.00050000\n",
            "Epoch:     82, Loss: 0.16742720, lr: 0.00050000\n",
            "Epoch:     83, Loss: 0.23681075, lr: 0.00050000\n",
            "Epoch:     84, Loss: 0.01833641, lr: 0.00050000\n",
            "Epoch:     85, Loss: 0.01190861, lr: 0.00050000\n",
            "Epoch:     86, Loss: 0.01016604, lr: 0.00050000\n",
            "Epoch:     87, Loss: 0.00912345, lr: 0.00050000\n",
            "Epoch:     88, Loss: 0.00822678, lr: 0.00050000\n",
            "Epoch:     89, Loss: 0.00748227, lr: 0.00050000\n",
            "Epoch:     90, Loss: 0.00695068, lr: 0.00050000\n",
            "Epoch:     91, Loss: 0.00643586, lr: 0.00050000\n",
            "Epoch:     92, Loss: 0.00590990, lr: 0.00050000\n",
            "Epoch:     93, Loss: 0.00662989, lr: 0.00050000\n",
            "Epoch:     94, Loss: 0.00574875, lr: 0.00050000\n",
            "Epoch:     95, Loss: 0.24887282, lr: 0.00050000\n",
            "Epoch:     96, Loss: 0.16278971, lr: 0.00050000\n",
            "Epoch:     97, Loss: 0.01225473, lr: 0.00050000\n",
            "Epoch:     98, Loss: 0.00865608, lr: 0.00050000\n",
            "Epoch:     99, Loss: 0.00723589, lr: 0.00050000\n"
          ]
        }
      ]
    },
    {
      "cell_type": "code",
      "source": [
        "# Test model\n",
        "model.eval()\n",
        "\n",
        "num_correct = 0\n",
        "\n",
        "for batch_idx, (batch_images, batch_gt_labels) in enumerate(tqdm(dataloader_test)):\n",
        "  batch_images = batch_images.to(device)\n",
        "  batch_gt_labels = batch_gt_labels.to(device)\n",
        "\n",
        "  prediction = model(batch_images)\n",
        "\n",
        "  _, batch_predicted_labels = torch.max(prediction, 1)\n",
        "  batch_prediction_error = batch_predicted_labels - batch_gt_labels\n",
        "\n",
        "  batch_num_correct = torch.sum(batch_prediction_error == 0)\n",
        "  num_correct += batch_num_correct\n",
        "\n",
        "accuracy = num_correct / len(dataset_test)\n",
        "print(f\"Accuracy: {accuracy:.8f}\")"
      ],
      "metadata": {
        "colab": {
          "base_uri": "https://localhost:8080/"
        },
        "id": "iIgl6D-3k5A1",
        "outputId": "59a701e3-6a6f-4730-c51f-b969322bfbb9"
      },
      "execution_count": 20,
      "outputs": [
        {
          "output_type": "stream",
          "name": "stderr",
          "text": [
            "100%|██████████| 100/100 [00:01<00:00, 55.29it/s]"
          ]
        },
        {
          "output_type": "stream",
          "name": "stdout",
          "text": [
            "Accuracy: 0.97920001\n"
          ]
        },
        {
          "output_type": "stream",
          "name": "stderr",
          "text": [
            "\n"
          ]
        }
      ]
    },
    {
      "cell_type": "code",
      "source": [],
      "metadata": {
        "id": "YrhBfysF2Rvz"
      },
      "execution_count": null,
      "outputs": []
    }
  ]
}